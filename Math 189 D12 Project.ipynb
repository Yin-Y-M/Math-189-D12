{
 "cells": [
  {
   "cell_type": "markdown",
   "metadata": {},
   "source": [
    "# Math 189"
   ]
  },
  {
   "cell_type": "markdown",
   "metadata": {},
   "source": [
    "### Setup"
   ]
  },
  {
   "cell_type": "code",
   "execution_count": 4,
   "metadata": {},
   "outputs": [],
   "source": [
    "# Imports\n",
    "import re\n",
    "\n",
    "import pandas as pd\n",
    "import numpy as np\n",
    "import seaborn as sns\n",
    "import matplotlib.pyplot as plt\n",
    "\n",
    "import scipy.stats as stats\n",
    "import statsmodels\n",
    "import statsmodels.api as sm\n",
    "import statsmodels.formula.api as smf\n",
    "from statsmodels.tsa.stattools import acf\n",
    "from statsmodels.stats.outliers_influence import variance_inflation_factor\n",
    "\n",
    "from sklearn.model_selection import train_test_split\n",
    "from sklearn.linear_model import LinearRegression\n",
    "from sklearn.metrics import mean_squared_error, r2_score"
   ]
  },
  {
   "cell_type": "code",
   "execution_count": 5,
   "metadata": {},
   "outputs": [
    {
     "data": {
      "text/html": [
       "<div>\n",
       "<style scoped>\n",
       "    .dataframe tbody tr th:only-of-type {\n",
       "        vertical-align: middle;\n",
       "    }\n",
       "\n",
       "    .dataframe tbody tr th {\n",
       "        vertical-align: top;\n",
       "    }\n",
       "\n",
       "    .dataframe thead th {\n",
       "        text-align: right;\n",
       "    }\n",
       "</style>\n",
       "<table border=\"1\" class=\"dataframe\">\n",
       "  <thead>\n",
       "    <tr style=\"text-align: right;\">\n",
       "      <th></th>\n",
       "      <th>Instructor</th>\n",
       "      <th>Course</th>\n",
       "      <th>Quarter</th>\n",
       "      <th>Total Enrolled in Course</th>\n",
       "      <th>Total CAPEs Given</th>\n",
       "      <th>Percentage Recommended Class</th>\n",
       "      <th>Percentage Recommended Professor</th>\n",
       "      <th>Study Hours per Week</th>\n",
       "      <th>Average Grade Expected</th>\n",
       "      <th>Average Grade Received</th>\n",
       "      <th>Evalulation URL</th>\n",
       "    </tr>\n",
       "  </thead>\n",
       "  <tbody>\n",
       "    <tr>\n",
       "      <th>0</th>\n",
       "      <td>Butler Elizabeth Annette</td>\n",
       "      <td>AAS 10 - Intro/African-American Studies (A)</td>\n",
       "      <td>SP23</td>\n",
       "      <td>66</td>\n",
       "      <td>48</td>\n",
       "      <td>93.5%</td>\n",
       "      <td>100.0%</td>\n",
       "      <td>2.80</td>\n",
       "      <td>A- (3.84)</td>\n",
       "      <td>B+ (3.67)</td>\n",
       "      <td>https://cape.ucsd.edu/CAPEReport.aspx?sectioni...</td>\n",
       "    </tr>\n",
       "    <tr>\n",
       "      <th>1</th>\n",
       "      <td>Butler Elizabeth Annette</td>\n",
       "      <td>AAS 170 - Legacies of Research (A)</td>\n",
       "      <td>SP23</td>\n",
       "      <td>20</td>\n",
       "      <td>7</td>\n",
       "      <td>100.0%</td>\n",
       "      <td>100.0%</td>\n",
       "      <td>2.50</td>\n",
       "      <td>A- (3.86)</td>\n",
       "      <td>A- (3.92)</td>\n",
       "      <td>https://cape.ucsd.edu/CAPEReport.aspx?sectioni...</td>\n",
       "    </tr>\n",
       "    <tr>\n",
       "      <th>2</th>\n",
       "      <td>Jones Ian William Nasser</td>\n",
       "      <td>ANAR 111 - Foundations of Archaeology (A)</td>\n",
       "      <td>SP23</td>\n",
       "      <td>16</td>\n",
       "      <td>3</td>\n",
       "      <td>100.0%</td>\n",
       "      <td>100.0%</td>\n",
       "      <td>3.83</td>\n",
       "      <td>B+ (3.67)</td>\n",
       "      <td>NaN</td>\n",
       "      <td>https://cape.ucsd.edu/CAPEReport.aspx?sectioni...</td>\n",
       "    </tr>\n",
       "    <tr>\n",
       "      <th>3</th>\n",
       "      <td>Shtienberg Gilad</td>\n",
       "      <td>ANAR 115 - Coastal Geomorphology/Environ (A)</td>\n",
       "      <td>SP23</td>\n",
       "      <td>26</td>\n",
       "      <td>6</td>\n",
       "      <td>100.0%</td>\n",
       "      <td>83.3%</td>\n",
       "      <td>3.83</td>\n",
       "      <td>B+ (3.50)</td>\n",
       "      <td>B (3.07)</td>\n",
       "      <td>https://cape.ucsd.edu/CAPEReport.aspx?sectioni...</td>\n",
       "    </tr>\n",
       "    <tr>\n",
       "      <th>4</th>\n",
       "      <td>Braswell Geoffrey E.</td>\n",
       "      <td>ANAR 155 - Stdy Abrd: Ancient Mesoamerica (A)</td>\n",
       "      <td>SP23</td>\n",
       "      <td>22</td>\n",
       "      <td>9</td>\n",
       "      <td>100.0%</td>\n",
       "      <td>100.0%</td>\n",
       "      <td>5.17</td>\n",
       "      <td>A (4.00)</td>\n",
       "      <td>A (4.00)</td>\n",
       "      <td>https://cape.ucsd.edu/CAPEReport.aspx?sectioni...</td>\n",
       "    </tr>\n",
       "  </tbody>\n",
       "</table>\n",
       "</div>"
      ],
      "text/plain": [
       "                 Instructor                                         Course   \n",
       "0  Butler Elizabeth Annette    AAS 10 - Intro/African-American Studies (A)  \\\n",
       "1  Butler Elizabeth Annette             AAS 170 - Legacies of Research (A)   \n",
       "2  Jones Ian William Nasser      ANAR 111 - Foundations of Archaeology (A)   \n",
       "3          Shtienberg Gilad   ANAR 115 - Coastal Geomorphology/Environ (A)   \n",
       "4      Braswell Geoffrey E.  ANAR 155 - Stdy Abrd: Ancient Mesoamerica (A)   \n",
       "\n",
       "  Quarter  Total Enrolled in Course  Total CAPEs Given   \n",
       "0    SP23                        66                 48  \\\n",
       "1    SP23                        20                  7   \n",
       "2    SP23                        16                  3   \n",
       "3    SP23                        26                  6   \n",
       "4    SP23                        22                  9   \n",
       "\n",
       "  Percentage Recommended Class Percentage Recommended Professor   \n",
       "0                        93.5%                           100.0%  \\\n",
       "1                       100.0%                           100.0%   \n",
       "2                       100.0%                           100.0%   \n",
       "3                       100.0%                            83.3%   \n",
       "4                       100.0%                           100.0%   \n",
       "\n",
       "   Study Hours per Week Average Grade Expected Average Grade Received   \n",
       "0                  2.80              A- (3.84)              B+ (3.67)  \\\n",
       "1                  2.50              A- (3.86)              A- (3.92)   \n",
       "2                  3.83              B+ (3.67)                    NaN   \n",
       "3                  3.83              B+ (3.50)               B (3.07)   \n",
       "4                  5.17               A (4.00)               A (4.00)   \n",
       "\n",
       "                                     Evalulation URL  \n",
       "0  https://cape.ucsd.edu/CAPEReport.aspx?sectioni...  \n",
       "1  https://cape.ucsd.edu/CAPEReport.aspx?sectioni...  \n",
       "2  https://cape.ucsd.edu/CAPEReport.aspx?sectioni...  \n",
       "3  https://cape.ucsd.edu/CAPEReport.aspx?sectioni...  \n",
       "4  https://cape.ucsd.edu/CAPEReport.aspx?sectioni...  "
      ]
     },
     "execution_count": 5,
     "metadata": {},
     "output_type": "execute_result"
    }
   ],
   "source": [
    "# Load the data\n",
    "df = pd.read_csv('capes_data.csv')\n",
    "df.head()"
   ]
  },
  {
   "cell_type": "markdown",
   "metadata": {},
   "source": [
    "### Data Cleaning"
   ]
  },
  {
   "cell_type": "markdown",
   "metadata": {},
   "source": [
    "Since the evaluation URL does not have any influence on our result, it will be deleted. The name of the instructors will also be removed to streamline our analysis towards more generalizable insights focusing on other relevant variables. In addition, rows containing missing values will be eliminated, and the sequence number will be updated. \n"
   ]
  },
  {
   "cell_type": "code",
   "execution_count": 6,
   "metadata": {},
   "outputs": [],
   "source": [
    "df = df.drop('Evalulation URL', axis=1)\n",
    "df = df.drop('Instructor', axis=1)\n",
    "df = df.dropna().reset_index(drop=True)"
   ]
  },
  {
   "cell_type": "markdown",
   "metadata": {},
   "source": [
    "For later analysis, we will only preserve the numerical GPA from `Average Grade Expected` and `Average Grade Received`."
   ]
  },
  {
   "cell_type": "code",
   "execution_count": 7,
   "metadata": {},
   "outputs": [],
   "source": [
    "df['exp_gpa'] = df['Average Grade Expected'].str.extract(r'(\\d+\\.\\d+)').astype(float)\n",
    "df['rec_gpa'] = df['Average Grade Received'].str.extract(r'(\\d+\\.\\d+)').astype(float)\n",
    "\n",
    "df = df.drop('Average Grade Expected', axis=1)\n",
    "df = df.drop('Average Grade Received', axis=1)"
   ]
  },
  {
   "cell_type": "markdown",
   "metadata": {},
   "source": [
    "We extract the season part from `Quarter` and rename them as `season`."
   ]
  },
  {
   "cell_type": "code",
   "execution_count": 8,
   "metadata": {},
   "outputs": [],
   "source": [
    "df['season'] = df['Quarter'].str[0:2]\n",
    "df['season'] = df['season'].replace(['S1', 'S2', 'S3', 'SU'], 'SS')\n",
    "df['season'] = df['season'].astype('category')\n",
    "df['Quarter'] = df['Quarter'].astype('category')"
   ]
  },
  {
   "cell_type": "markdown",
   "metadata": {},
   "source": [
    "Proportion of people filling CAPES will be used to replace the number of those filling CAPES."
   ]
  },
  {
   "cell_type": "code",
   "execution_count": 9,
   "metadata": {},
   "outputs": [],
   "source": [
    "df['cape_prop'] = df['Total CAPEs Given']/df['Total Enrolled in Course']\n",
    "df = df.drop('Total CAPEs Given', axis=1)"
   ]
  },
  {
   "cell_type": "code",
   "execution_count": 10,
   "metadata": {},
   "outputs": [],
   "source": [
    "# Only take rows with more than 50% evaluating proportion\n",
    "# df = df_save.copy()\n",
    "# df = df[df['cape_prop'] > 0.50] # 45393 -> 18860"
   ]
  },
  {
   "cell_type": "markdown",
   "metadata": {},
   "source": [
    "Two key information will be extracted from the name of each course: which department(prefix) does the course belong to and whether it is an upper course or lower course."
   ]
  },
  {
   "cell_type": "code",
   "execution_count": 11,
   "metadata": {},
   "outputs": [
    {
     "name": "stdout",
     "output_type": "stream",
     "text": [
      "In total there are 125 prefixes\n"
     ]
    }
   ],
   "source": [
    "course_info = df['Course'].apply(lambda x: re.findall(r\"[\\w+\\s\\d+]+\\b\", x)[0])\n",
    "print(f\"In total there are {course_info.apply(lambda x: x.split()[0]).value_counts().shape[0]} prefixes\")\n",
    "\n",
    "df['Course'] = pd.Series(course_info).apply(lambda x: x.split()[0])\n",
    "if_lower = course_info.apply(lambda x: x.split()[1]).apply(lambda x: 1 if int(re.findall(r\"\\d+\", x)[0]) < 100 else 0)\n",
    "df['if_lower'] = if_lower\n",
    "df.rename(columns={\"Course\" : \"course_prefix\"}, inplace=True)\n",
    "# if_lower要不要变成categorical\n",
    "df['course_prefix'] = df['course_prefix'].astype('category')"
   ]
  },
  {
   "cell_type": "markdown",
   "metadata": {},
   "source": [
    "Some other columns will be renamed for simplicity and converted to appropriate data types."
   ]
  },
  {
   "cell_type": "code",
   "execution_count": 12,
   "metadata": {},
   "outputs": [],
   "source": [
    "df = df.rename(columns={\n",
    "    'Percentage Recommended Class': 'recmd_class',\n",
    "    'Percentage Recommended Professor': 'recmd_prof',\n",
    "    'Study Hours per Week': 'study_hrs',\n",
    "    'Total Enrolled in Course' : 'enrollment'\n",
    "})\n",
    "\n",
    "df['recmd_class'] = df['recmd_class'].str.extract(r'(\\d+)').astype(float)/100\n",
    "df['recmd_prof'] = df['recmd_prof'].str.extract(r'(\\d+)').astype(float)/100"
   ]
  },
  {
   "cell_type": "markdown",
   "metadata": {},
   "source": [
    "Now, let's take a look at the cleaned dataset."
   ]
  },
  {
   "cell_type": "code",
   "execution_count": 13,
   "metadata": {},
   "outputs": [
    {
     "data": {
      "text/html": [
       "<div>\n",
       "<style scoped>\n",
       "    .dataframe tbody tr th:only-of-type {\n",
       "        vertical-align: middle;\n",
       "    }\n",
       "\n",
       "    .dataframe tbody tr th {\n",
       "        vertical-align: top;\n",
       "    }\n",
       "\n",
       "    .dataframe thead th {\n",
       "        text-align: right;\n",
       "    }\n",
       "</style>\n",
       "<table border=\"1\" class=\"dataframe\">\n",
       "  <thead>\n",
       "    <tr style=\"text-align: right;\">\n",
       "      <th></th>\n",
       "      <th>course_prefix</th>\n",
       "      <th>Quarter</th>\n",
       "      <th>enrollment</th>\n",
       "      <th>recmd_class</th>\n",
       "      <th>recmd_prof</th>\n",
       "      <th>study_hrs</th>\n",
       "      <th>exp_gpa</th>\n",
       "      <th>rec_gpa</th>\n",
       "      <th>season</th>\n",
       "      <th>cape_prop</th>\n",
       "      <th>if_lower</th>\n",
       "    </tr>\n",
       "  </thead>\n",
       "  <tbody>\n",
       "    <tr>\n",
       "      <th>0</th>\n",
       "      <td>AAS</td>\n",
       "      <td>SP23</td>\n",
       "      <td>66</td>\n",
       "      <td>0.93</td>\n",
       "      <td>1.00</td>\n",
       "      <td>2.80</td>\n",
       "      <td>3.84</td>\n",
       "      <td>3.67</td>\n",
       "      <td>SP</td>\n",
       "      <td>0.727273</td>\n",
       "      <td>1</td>\n",
       "    </tr>\n",
       "    <tr>\n",
       "      <th>1</th>\n",
       "      <td>AAS</td>\n",
       "      <td>SP23</td>\n",
       "      <td>20</td>\n",
       "      <td>1.00</td>\n",
       "      <td>1.00</td>\n",
       "      <td>2.50</td>\n",
       "      <td>3.86</td>\n",
       "      <td>3.92</td>\n",
       "      <td>SP</td>\n",
       "      <td>0.350000</td>\n",
       "      <td>0</td>\n",
       "    </tr>\n",
       "    <tr>\n",
       "      <th>2</th>\n",
       "      <td>ANAR</td>\n",
       "      <td>SP23</td>\n",
       "      <td>26</td>\n",
       "      <td>1.00</td>\n",
       "      <td>0.83</td>\n",
       "      <td>3.83</td>\n",
       "      <td>3.50</td>\n",
       "      <td>3.07</td>\n",
       "      <td>SP</td>\n",
       "      <td>0.230769</td>\n",
       "      <td>0</td>\n",
       "    </tr>\n",
       "    <tr>\n",
       "      <th>3</th>\n",
       "      <td>ANAR</td>\n",
       "      <td>SP23</td>\n",
       "      <td>22</td>\n",
       "      <td>1.00</td>\n",
       "      <td>1.00</td>\n",
       "      <td>5.17</td>\n",
       "      <td>4.00</td>\n",
       "      <td>4.00</td>\n",
       "      <td>SP</td>\n",
       "      <td>0.409091</td>\n",
       "      <td>0</td>\n",
       "    </tr>\n",
       "    <tr>\n",
       "      <th>4</th>\n",
       "      <td>ANBI</td>\n",
       "      <td>SP23</td>\n",
       "      <td>22</td>\n",
       "      <td>1.00</td>\n",
       "      <td>1.00</td>\n",
       "      <td>2.50</td>\n",
       "      <td>4.00</td>\n",
       "      <td>2.95</td>\n",
       "      <td>SP</td>\n",
       "      <td>0.181818</td>\n",
       "      <td>0</td>\n",
       "    </tr>\n",
       "  </tbody>\n",
       "</table>\n",
       "</div>"
      ],
      "text/plain": [
       "  course_prefix Quarter  enrollment  recmd_class  recmd_prof  study_hrs   \n",
       "0           AAS    SP23          66         0.93        1.00       2.80  \\\n",
       "1           AAS    SP23          20         1.00        1.00       2.50   \n",
       "2          ANAR    SP23          26         1.00        0.83       3.83   \n",
       "3          ANAR    SP23          22         1.00        1.00       5.17   \n",
       "4          ANBI    SP23          22         1.00        1.00       2.50   \n",
       "\n",
       "   exp_gpa  rec_gpa season  cape_prop  if_lower  \n",
       "0     3.84     3.67     SP   0.727273         1  \n",
       "1     3.86     3.92     SP   0.350000         0  \n",
       "2     3.50     3.07     SP   0.230769         0  \n",
       "3     4.00     4.00     SP   0.409091         0  \n",
       "4     4.00     2.95     SP   0.181818         0  "
      ]
     },
     "execution_count": 13,
     "metadata": {},
     "output_type": "execute_result"
    }
   ],
   "source": [
    "df.head()"
   ]
  },
  {
   "cell_type": "markdown",
   "metadata": {},
   "source": [
    "### Exploratory Data Analysis"
   ]
  },
  {
   "cell_type": "markdown",
   "metadata": {},
   "source": [
    "We can obtain a general understanding of the distribution of the average grade received by drawing a histogram before further analysis."
   ]
  },
  {
   "cell_type": "code",
   "execution_count": 14,
   "metadata": {},
   "outputs": [
    {
     "data": {
      "image/png": "[encoded data removed]",
      "text/plain": [
       "<Figure size 640x480 with 1 Axes>"
      ]
     },
     "metadata": {},
     "output_type": "display_data"
    }
   ],
   "source": [
    "sns.histplot(df['rec_gpa'], bins=25)\n",
    "plt.show()"
   ]
  },
  {
   "cell_type": "code",
   "execution_count": 15,
   "metadata": {},
   "outputs": [
    {
     "data": {
      "image/png": "[encoded data removed]",
      "text/plain": [
       "<Figure size 640x480 with 2 Axes>"
      ]
     },
     "metadata": {},
     "output_type": "display_data"
    }
   ],
   "source": [
    "# Correlation\n",
    "quan_data = df.drop(columns={\n",
    "    'course_prefix',\n",
    "    'Quarter',\n",
    "    'season',\n",
    "    #'if_lower'\n",
    "})\n",
    "correlation_matrix = quan_data.corr()\n",
    "sns.heatmap(correlation_matrix, annot=True, cmap='coolwarm')\n",
    "plt.show()"
   ]
  },
  {
   "cell_type": "markdown",
   "metadata": {},
   "source": [
    "### Hypothesis Testing"
   ]
  },
  {
   "cell_type": "markdown",
   "metadata": {},
   "source": [
    "### Regression Analysis"
   ]
  },
  {
   "cell_type": "markdown",
   "metadata": {},
   "source": [
    "We will first perform a regular linear regression based on all the covariates we have obtained so far."
   ]
  },
  {
   "cell_type": "code",
   "execution_count": 16,
   "metadata": {},
   "outputs": [
    {
     "name": "stdout",
     "output_type": "stream",
     "text": [
      "                            OLS Regression Results                            \n",
      "==============================================================================\n",
      "Dep. Variable:                rec_gpa   R-squared:                       0.547\n",
      "Model:                            OLS   Adj. R-squared:                  0.547\n",
      "Method:                 Least Squares   F-statistic:                     5478.\n",
      "Date:                Tue, 04 Jun 2024   Prob (F-statistic):               0.00\n",
      "Time:                        19:06:37   Log-Likelihood:                -5344.3\n",
      "No. Observations:               45393   AIC:                         1.071e+04\n",
      "Df Residuals:                   45382   BIC:                         1.081e+04\n",
      "Df Model:                          10                                         \n",
      "Covariance Type:            nonrobust                                         \n",
      "================================================================================\n",
      "                   coef    std err          t      P>|t|      [0.025      0.975]\n",
      "--------------------------------------------------------------------------------\n",
      "Intercept        0.0603      0.020      3.084      0.002       0.022       0.099\n",
      "season[T.SP]     0.0382      0.003     11.404      0.000       0.032       0.045\n",
      "season[T.SS]    -0.0139      0.005     -2.813      0.005      -0.024      -0.004\n",
      "season[T.WI]     0.0155      0.003      4.692      0.000       0.009       0.022\n",
      "enrollment      -0.0005   1.49e-05    -31.780      0.000      -0.001      -0.000\n",
      "recmd_class     -0.2886      0.015    -19.281      0.000      -0.318      -0.259\n",
      "recmd_prof       0.1570      0.012     12.919      0.000       0.133       0.181\n",
      "study_hrs       -0.0056      0.001     -9.201      0.000      -0.007      -0.004\n",
      "exp_gpa          0.9642      0.005    180.109      0.000       0.954       0.975\n",
      "cape_prop        0.0858      0.006     13.364      0.000       0.073       0.098\n",
      "if_lower        -0.0204      0.003     -7.114      0.000      -0.026      -0.015\n",
      "==============================================================================\n",
      "Omnibus:                     1523.511   Durbin-Watson:                   1.411\n",
      "Prob(Omnibus):                  0.000   Jarque-Bera (JB):             2292.801\n",
      "Skew:                          -0.332   Prob(JB):                         0.00\n",
      "Kurtosis:                       3.878   Cond. No.                     2.15e+03\n",
      "==============================================================================\n",
      "\n",
      "Notes:\n",
      "[1] Standard Errors assume that the covariance matrix of the errors is correctly specified.\n",
      "[2] The condition number is large, 2.15e+03. This might indicate that there are\n",
      "strong multicollinearity or other numerical problems.\n"
     ]
    }
   ],
   "source": [
    "formula = 'rec_gpa ~ enrollment + recmd_class + recmd_prof + study_hrs + exp_gpa + season + cape_prop + if_lower'\n",
    "model = smf.ols(formula, data=df).fit()\n",
    "print(model.summary())\n",
    "#course_prefix 要放进来吗"
   ]
  },
  {
   "cell_type": "markdown",
   "metadata": {},
   "source": [
    "Next， we compute the variance inflation factor (VIF) for each covariate to see if multicollinearity exists."
   ]
  },
  {
   "cell_type": "code",
   "execution_count": 17,
   "metadata": {},
   "outputs": [
    {
     "name": "stdout",
     "output_type": "stream",
     "text": [
      "VIF: season[T.SP]: 1.446\n",
      "VIF: season[T.SS]: 1.350\n",
      "VIF: season[T.WI]: 1.433\n",
      "VIF: enrollment: 1.180\n",
      "VIF: recmd_class: 2.093\n",
      "VIF: recmd_prof: 1.906\n",
      "VIF: study_hrs: 1.266\n",
      "VIF: exp_gpa: 1.555\n",
      "VIF: cape_prop: 1.081\n",
      "VIF: if_lower: 1.145\n"
     ]
    }
   ],
   "source": [
    "exog = model.model.exog\n",
    "names = model.params.index\n",
    "for i in range(1, exog.shape[1]):\n",
    "    print(f'VIF: {names[i]}: {variance_inflation_factor(exog, i):.3f}')\n",
    "#Q: VIF 与 multicollinearity 的关系"
   ]
  },
  {
   "cell_type": "markdown",
   "metadata": {},
   "source": [
    "This part checks if the students recieved GPA is significantly impacted compare to the gpa students received before the COVID period. It could be much better or worse. \n",
    "\n",
    "Definition of Covid in terms of UCSD Quarters: Quarters from Summer Session 2020 to SPing 2023. Both inclusive.\n",
    "\n",
    "SS20 FA20 WI21 SP21 SS21 FA21 WI22 SP22 SS22 FA22 WI23 SP23"
   ]
  },
  {
   "cell_type": "code",
   "execution_count": 18,
   "metadata": {},
   "outputs": [
    {
     "data": {
      "image/png": "[encoded data removed]",
      "text/plain": [
       "<Figure size 640x480 with 1 Axes>"
      ]
     },
     "metadata": {},
     "output_type": "display_data"
    }
   ],
   "source": [
    "# Permutation test to see if the data is different\n",
    "\n",
    "df_covid = df[df['Quarter'].apply(lambda x : x in ['SS20', 'FA20', 'WI21', 'SP21', 'SS21', 'FA21', 'WI22', 'SP22', 'SS22', 'FA22', 'WI23', 'SP23'])]\n",
    "# df['rec_gpa'].mean() 3.27194\n",
    "# df_covid['rec_gpa'].mean() 3.390616\n",
    "\n",
    "plt.hist(df['rec_gpa'], bins=30, alpha=0.5, label='All Data',density=True)\n",
    "plt.hist(df_covid['rec_gpa'], bins=30, alpha=0.5, label='COVID Data', density=True)\n",
    "\n",
    "plt.title('Distribution of rec_gpa')\n",
    "plt.xlabel('rec_gpa')\n",
    "plt.ylabel('Frequency')\n",
    "plt.legend()\n",
    "plt.show()\n"
   ]
  },
  {
   "cell_type": "markdown",
   "metadata": {},
   "source": [
    "It looks like the GPA during the Covid time is slightly higher than other time.  \n",
    "In order to justify that, lets do a permutation test!"
   ]
  },
  {
   "cell_type": "code",
   "execution_count": 19,
   "metadata": {},
   "outputs": [
    {
     "name": "stdout",
     "output_type": "stream",
     "text": [
      "P-value: 0.2634\n"
     ]
    },
    {
     "data": {
      "image/png": "[encoded data removed]",
      "text/plain": [
       "<Figure size 1000x600 with 1 Axes>"
      ]
     },
     "metadata": {},
     "output_type": "display_data"
    }
   ],
   "source": [
    "def mse_difference(data1, data2):\n",
    "    return np.mean((data1 - np.mean(data2)) ** 2) - np.mean((data2 - np.mean(data1)) ** 2)\n",
    "\n",
    "\n",
    "observed_mse_diff = mse_difference(df_covid['rec_gpa'], df[~df['Quarter'].isin(df_covid['Quarter'])]['rec_gpa'])\n",
    "\n",
    "combined_data = np.concatenate([df_covid['rec_gpa'], df[~df['Quarter'].isin(df_covid['Quarter'])]['rec_gpa']])\n",
    "\n",
    "num_permutations = 10000\n",
    "\n",
    "permuted_mse_diffs = np.zeros(num_permutations)\n",
    "\n",
    "for i in range(num_permutations):\n",
    "\n",
    "    permuted_data = np.random.permutation(combined_data)\n",
    "\n",
    "    permuted_sample1 = permuted_data[:len(df_covid)]\n",
    "    permuted_sample2 = permuted_data[len(df_covid):]\n",
    "\n",
    "    permuted_mse_diffs[i] = mse_difference(permuted_sample1, permuted_sample2)\n",
    "\n",
    "p_value = np.mean(np.abs(permuted_mse_diffs) >= np.abs(observed_mse_diff))\n",
    "\n",
    "# print(f'Observed mse diff: {observed_mse_diff}')\n",
    "print(f'P-value: {p_value}')\n",
    "\n",
    "\n",
    "plt.figure(figsize=(10, 6))\n",
    "plt.hist(permuted_mse_diffs, bins=30, alpha=0.75)\n",
    "plt.axvline(observed_mse_diff, color='red', linestyle='--', label=f'observed diff: {observed_mse_diff:.4f}')\n",
    "plt.axvline(-observed_mse_diff, color='red', linestyle='--')\n",
    "plt.title('permutation test')\n",
    "plt.xlabel('MSE diff')\n",
    "plt.ylabel('frequency')\n",
    "plt.legend()\n",
    "plt.show()"
   ]
  },
  {
   "cell_type": "code",
   "execution_count": 20,
   "metadata": {},
   "outputs": [
    {
     "name": "stdout",
     "output_type": "stream",
     "text": [
      "Mean Squared Error: 0.0756460153533001\n",
      "Correlation coefficient score: 0.5389759482784987\n"
     ]
    }
   ],
   "source": [
    "X = df[['enrollment', 'recmd_class', 'recmd_prof', 'study_hrs', 'exp_gpa', 'cape_prop', 'if_lower']]\n",
    "y = df['rec_gpa']\n",
    "\n",
    "X_train, X_test, y_train, y_test = train_test_split(X, y, test_size=0.2)\n",
    "\n",
    "model = LinearRegression()\n",
    "model.fit(X_train, y_train)\n",
    "\n",
    "y_pred = model.predict(X_test)\n",
    "mse = mean_squared_error(y_test, y_pred)\n",
    "r2 = r2_score(y_test, y_pred)\n",
    "\n",
    "print(f'Mean Squared Error: {mse}')\n",
    "print(f'Correlation coefficient score: {r2}')"
   ]
  },
  {
   "cell_type": "code",
   "execution_count": 21,
   "metadata": {},
   "outputs": [
    {
     "name": "stdout",
     "output_type": "stream",
     "text": [
      "Predicted GPA: 3.5464281238841213\n"
     ]
    },
    {
     "name": "stderr",
     "output_type": "stream",
     "text": [
      "c:\\Users\\84628\\AppData\\Local\\Programs\\Python\\Python311\\Lib\\site-packages\\sklearn\\base.py:439: UserWarning: X does not have valid feature names, but LinearRegression was fitted with feature names\n",
      "  warnings.warn(\n"
     ]
    }
   ],
   "source": [
    "# Prediction to a made-up date\n",
    "new_data = [[30, 0.95, 0.90, 3.0, 3.75, 0.5, 1]]\n",
    "predicted_gpa = model.predict(new_data)\n",
    "print(f'Predicted GPA: {predicted_gpa[0]}')"
   ]
  },
  {
   "cell_type": "code",
   "execution_count": 22,
   "metadata": {},
   "outputs": [
    {
     "data": {
      "text/html": [
       "<div>\n",
       "<style scoped>\n",
       "    .dataframe tbody tr th:only-of-type {\n",
       "        vertical-align: middle;\n",
       "    }\n",
       "\n",
       "    .dataframe tbody tr th {\n",
       "        vertical-align: top;\n",
       "    }\n",
       "\n",
       "    .dataframe thead th {\n",
       "        text-align: right;\n",
       "    }\n",
       "</style>\n",
       "<table border=\"1\" class=\"dataframe\">\n",
       "  <thead>\n",
       "    <tr style=\"text-align: right;\">\n",
       "      <th></th>\n",
       "      <th>Coefficient</th>\n",
       "    </tr>\n",
       "  </thead>\n",
       "  <tbody>\n",
       "    <tr>\n",
       "      <th>enrollment</th>\n",
       "      <td>-0.000452</td>\n",
       "    </tr>\n",
       "    <tr>\n",
       "      <th>recmd_class</th>\n",
       "      <td>-0.295665</td>\n",
       "    </tr>\n",
       "    <tr>\n",
       "      <th>recmd_prof</th>\n",
       "      <td>0.161327</td>\n",
       "    </tr>\n",
       "    <tr>\n",
       "      <th>study_hrs</th>\n",
       "      <td>-0.006257</td>\n",
       "    </tr>\n",
       "    <tr>\n",
       "      <th>exp_gpa</th>\n",
       "      <td>0.966874</td>\n",
       "    </tr>\n",
       "    <tr>\n",
       "      <th>cape_prop</th>\n",
       "      <td>0.083738</td>\n",
       "    </tr>\n",
       "    <tr>\n",
       "      <th>if_lower</th>\n",
       "      <td>-0.026043</td>\n",
       "    </tr>\n",
       "  </tbody>\n",
       "</table>\n",
       "</div>"
      ],
      "text/plain": [
       "             Coefficient\n",
       "enrollment     -0.000452\n",
       "recmd_class    -0.295665\n",
       "recmd_prof      0.161327\n",
       "study_hrs      -0.006257\n",
       "exp_gpa         0.966874\n",
       "cape_prop       0.083738\n",
       "if_lower       -0.026043"
      ]
     },
     "execution_count": 22,
     "metadata": {},
     "output_type": "execute_result"
    }
   ],
   "source": [
    "coefficients = pd.DataFrame(model.coef_, index=X.columns, columns=['Coefficient'])\n",
    "coefficients\n",
    "# Which feature has the highest regression coefficient (influence)"
   ]
  },
  {
   "cell_type": "markdown",
   "metadata": {},
   "source": [
    "According to our Linear Regression predicting model, Expected GPA in all features has"
   ]
  },
  {
   "cell_type": "code",
   "execution_count": null,
   "metadata": {},
   "outputs": [],
   "source": []
  },
  {
   "cell_type": "markdown",
   "metadata": {},
   "source": [
    "To identify the most important predictors and include them in the final regression model, we compare regression model formulas of all models we can create using subsets of the covariates and find the optimal model using BICs."
   ]
  },
  {
   "cell_type": "code",
   "execution_count": 23,
   "metadata": {},
   "outputs": [],
   "source": [
    "covariates = ['enrollment', 'recmd_class', 'recmd_prof', 'study_hrs', 'exp_gpa', 'season', 'cape_prop', 'if_lower']"
   ]
  },
  {
   "cell_type": "code",
   "execution_count": 24,
   "metadata": {},
   "outputs": [
    {
     "data": {
      "text/plain": [
       "['rec_gpa ~ enrollment',\n",
       " 'rec_gpa ~ recmd_class',\n",
       " 'rec_gpa ~ recmd_prof',\n",
       " 'rec_gpa ~ study_hrs',\n",
       " 'rec_gpa ~ exp_gpa',\n",
       " 'rec_gpa ~ season',\n",
       " 'rec_gpa ~ cape_prop',\n",
       " 'rec_gpa ~ if_lower',\n",
       " 'rec_gpa ~ enrollment + recmd_class',\n",
       " 'rec_gpa ~ enrollment + recmd_prof']"
      ]
     },
     "execution_count": 24,
     "metadata": {},
     "output_type": "execute_result"
    }
   ],
   "source": [
    "formulas = []\n",
    "\n",
    "from itertools import combinations\n",
    "\n",
    "for i in range(1, len(covariates)+1):\n",
    "    for subset in combinations(covariates, i):\n",
    "            formula = \"rec_gpa ~ \" + \" + \".join(subset)\n",
    "            formulas.append(formula)\n",
    "\n",
    "formulas[:10]"
   ]
  },
  {
   "cell_type": "code",
   "execution_count": 25,
   "metadata": {},
   "outputs": [],
   "source": [
    "BICs = []\n",
    "for formula in formulas:\n",
    "    model = smf.ols(formula, df).fit()\n",
    "    bic = -2 * model.llf + np.log(df.shape[0]) * len(model.params)\n",
    "    BICs.append(bic)\n",
    "\n",
    "# min(BICs) #10806.583574853334\n",
    "# max(BICs) #46643.07376870214"
   ]
  },
  {
   "cell_type": "code",
   "execution_count": 26,
   "metadata": {},
   "outputs": [
    {
     "name": "stdout",
     "output_type": "stream",
     "text": [
      "The formula of the optimal model is rec_gpa ~ enrollment + recmd_class + recmd_prof + study_hrs + exp_gpa + season + cape_prop + if_lower\n"
     ]
    }
   ],
   "source": [
    "min_index = np.argmin(BICs)\n",
    "optimal_formula = formulas[min_index]\n",
    "print(f'The formula of the optimal model is {optimal_formula}')"
   ]
  },
  {
   "cell_type": "markdown",
   "metadata": {},
   "source": [
    "Use backward selection to find the optimal model."
   ]
  },
  {
   "cell_type": "code",
   "execution_count": 29,
   "metadata": {},
   "outputs": [],
   "source": [
    "criterion = lambda formula, df: smf.ols(formula, df).fit().bic\n",
    "\n",
    "def remove(df, selected_columns, criterion, response='rec_gpa'):\n",
    "    worst_criterion = np.inf\n",
    "    worst_column = None\n",
    "    for column in selected_columns:\n",
    "        new_columns = selected_columns - {column}\n",
    "        formula = f'{response} ~ {\" + \".join(new_columns)}'\n",
    "        current_criterion = criterion(formula, df)\n",
    "        if current_criterion < worst_criterion:\n",
    "            worst_criterion = current_criterion\n",
    "            worst_column = column\n",
    "    return worst_column, worst_criterion"
   ]
  },
  {
   "cell_type": "code",
   "execution_count": 30,
   "metadata": {},
   "outputs": [
    {
     "data": {
      "text/plain": [
       "('season', -260.08011102808996)"
      ]
     },
     "execution_count": 30,
     "metadata": {},
     "output_type": "execute_result"
    }
   ],
   "source": [
    "remove(df, set(df.columns.drop('rec_gpa')), criterion)\n"
   ]
  },
  {
   "cell_type": "code",
   "execution_count": 31,
   "metadata": {},
   "outputs": [],
   "source": [
    "def backward(df, criterion, response='rec_gpa'):\n",
    "    lst = ['rec_gpa', 'course_prefix', 'Quarter']\n",
    "    selected_columns = set(df.columns.drop(lst))\n",
    "    columns = set(df.columns.drop(response))\n",
    "    best_criterion = np.inf\n",
    "    while len(selected_columns) > 0:\n",
    "        potential_column, current_criterion = remove(df, selected_columns, criterion, response)\n",
    "        if current_criterion > best_criterion:\n",
    "            break\n",
    "        else:\n",
    "            selected_columns = selected_columns - {potential_column}\n",
    "            best_criterion = current_criterion\n",
    "            print(f'Criterion: {best_criterion}')\n",
    "    return selected_columns"
   ]
  },
  {
   "cell_type": "code",
   "execution_count": 32,
   "metadata": {},
   "outputs": [
    {
     "name": "stdout",
     "output_type": "stream",
     "text": [
      "Criterion: 10846.449023447009\n",
      "backward_vars: {'enrollment', 'cape_prop', 'recmd_class', 'study_hrs', 'season', 'exp_gpa', 'recmd_prof'}\n"
     ]
    }
   ],
   "source": [
    "backward_vars = backward(df, criterion, response='rec_gpa')\n",
    "print(f'backward_vars: {backward_vars}')"
   ]
  },
  {
   "cell_type": "markdown",
   "metadata": {},
   "source": [
    "We apply the elastic net penalty"
   ]
  },
  {
   "cell_type": "code",
   "execution_count": 33,
   "metadata": {},
   "outputs": [
    {
     "name": "stdout",
     "output_type": "stream",
     "text": [
      "Intercept       0.000000\n",
      "season[T.SP]    0.000000\n",
      "season[T.SS]    0.000000\n",
      "season[T.WI]    0.000000\n",
      "enrollment      0.002273\n",
      "recmd_class     0.000000\n",
      "recmd_prof      0.000000\n",
      "study_hrs       0.081606\n",
      "exp_gpa         0.661352\n",
      "cape_prop       0.000000\n",
      "if_lower        0.000000\n",
      "dtype: float64\n"
     ]
    }
   ],
   "source": [
    "full_model = f' y ~ {\" + \".join(covariates)}'\n",
    "elastic_fit = smf.ols(full_model, df).fit_regularized(\"elastic_net\", alpha=1.0, L1_wt=1.0)\n",
    "print(elastic_fit.params)"
   ]
  },
  {
   "cell_type": "code",
   "execution_count": 34,
   "metadata": {},
   "outputs": [],
   "source": [
    "l1wt = 1.0\n",
    "alphas = np.linspace(1e-3, 0.5, 200)\n",
    "elastic_coef =[]\n",
    "for alpha in alphas:\n",
    "    elastic_fit = smf.ols(full_model, df).fit_regularized('elastic_net', alpha, l1wt)\n",
    "    elastic_coef.append(elastic_fit.params[1:])"
   ]
  },
  {
   "cell_type": "code",
   "execution_count": 35,
   "metadata": {},
   "outputs": [
    {
     "data": {
      "text/html": [
       "<div>\n",
       "<style scoped>\n",
       "    .dataframe tbody tr th:only-of-type {\n",
       "        vertical-align: middle;\n",
       "    }\n",
       "\n",
       "    .dataframe tbody tr th {\n",
       "        vertical-align: top;\n",
       "    }\n",
       "\n",
       "    .dataframe thead th {\n",
       "        text-align: right;\n",
       "    }\n",
       "</style>\n",
       "<table border=\"1\" class=\"dataframe\">\n",
       "  <thead>\n",
       "    <tr style=\"text-align: right;\">\n",
       "      <th></th>\n",
       "      <th>season[T.SP]</th>\n",
       "      <th>season[T.SS]</th>\n",
       "      <th>season[T.WI]</th>\n",
       "      <th>enrollment</th>\n",
       "      <th>recmd_class</th>\n",
       "      <th>recmd_prof</th>\n",
       "      <th>study_hrs</th>\n",
       "      <th>exp_gpa</th>\n",
       "      <th>cape_prop</th>\n",
       "      <th>if_lower</th>\n",
       "    </tr>\n",
       "  </thead>\n",
       "  <tbody>\n",
       "    <tr>\n",
       "      <th>0.001000</th>\n",
       "      <td>0.042703</td>\n",
       "      <td>0.0</td>\n",
       "      <td>0.011212</td>\n",
       "      <td>-0.000775</td>\n",
       "      <td>0.368027</td>\n",
       "      <td>0.136758</td>\n",
       "      <td>-0.044661</td>\n",
       "      <td>0.188217</td>\n",
       "      <td>-0.137045</td>\n",
       "      <td>-0.044310</td>\n",
       "    </tr>\n",
       "    <tr>\n",
       "      <th>0.003508</th>\n",
       "      <td>0.032114</td>\n",
       "      <td>0.0</td>\n",
       "      <td>0.000000</td>\n",
       "      <td>-0.000749</td>\n",
       "      <td>0.356036</td>\n",
       "      <td>0.131472</td>\n",
       "      <td>-0.039803</td>\n",
       "      <td>0.213481</td>\n",
       "      <td>-0.067306</td>\n",
       "      <td>-0.033417</td>\n",
       "    </tr>\n",
       "    <tr>\n",
       "      <th>0.006015</th>\n",
       "      <td>0.026452</td>\n",
       "      <td>0.0</td>\n",
       "      <td>0.000000</td>\n",
       "      <td>-0.000728</td>\n",
       "      <td>0.341983</td>\n",
       "      <td>0.126073</td>\n",
       "      <td>-0.034907</td>\n",
       "      <td>0.238147</td>\n",
       "      <td>0.000000</td>\n",
       "      <td>-0.021114</td>\n",
       "    </tr>\n",
       "    <tr>\n",
       "      <th>0.008523</th>\n",
       "      <td>0.019333</td>\n",
       "      <td>0.0</td>\n",
       "      <td>0.000000</td>\n",
       "      <td>-0.000709</td>\n",
       "      <td>0.331944</td>\n",
       "      <td>0.123522</td>\n",
       "      <td>-0.030383</td>\n",
       "      <td>0.261303</td>\n",
       "      <td>0.000000</td>\n",
       "      <td>-0.006800</td>\n",
       "    </tr>\n",
       "    <tr>\n",
       "      <th>0.011030</th>\n",
       "      <td>0.011783</td>\n",
       "      <td>0.0</td>\n",
       "      <td>0.000000</td>\n",
       "      <td>-0.000680</td>\n",
       "      <td>0.321837</td>\n",
       "      <td>0.122492</td>\n",
       "      <td>-0.026024</td>\n",
       "      <td>0.283801</td>\n",
       "      <td>0.000000</td>\n",
       "      <td>0.000000</td>\n",
       "    </tr>\n",
       "  </tbody>\n",
       "</table>\n",
       "</div>"
      ],
      "text/plain": [
       "          season[T.SP]  season[T.SS]  season[T.WI]  enrollment  recmd_class   \n",
       "0.001000      0.042703           0.0      0.011212   -0.000775     0.368027  \\\n",
       "0.003508      0.032114           0.0      0.000000   -0.000749     0.356036   \n",
       "0.006015      0.026452           0.0      0.000000   -0.000728     0.341983   \n",
       "0.008523      0.019333           0.0      0.000000   -0.000709     0.331944   \n",
       "0.011030      0.011783           0.0      0.000000   -0.000680     0.321837   \n",
       "\n",
       "          recmd_prof  study_hrs   exp_gpa  cape_prop  if_lower  \n",
       "0.001000    0.136758  -0.044661  0.188217  -0.137045 -0.044310  \n",
       "0.003508    0.131472  -0.039803  0.213481  -0.067306 -0.033417  \n",
       "0.006015    0.126073  -0.034907  0.238147   0.000000 -0.021114  \n",
       "0.008523    0.123522  -0.030383  0.261303   0.000000 -0.006800  \n",
       "0.011030    0.122492  -0.026024  0.283801   0.000000  0.000000  "
      ]
     },
     "execution_count": 35,
     "metadata": {},
     "output_type": "execute_result"
    }
   ],
   "source": [
    "elastic_coef = pd.DataFrame(elastic_coef, alphas)\n",
    "elastic_coef.head()"
   ]
  },
  {
   "cell_type": "code",
   "execution_count": 36,
   "metadata": {},
   "outputs": [
    {
     "data": {
      "text/plain": [
       "Text(0, 0.5, 'coefficient')"
      ]
     },
     "execution_count": 36,
     "metadata": {},
     "output_type": "execute_result"
    },
    {
     "data": {
      "image/png": "[encoded data removed]",
      "text/plain": [
       "<Figure size 640x480 with 1 Axes>"
      ]
     },
     "metadata": {},
     "output_type": "display_data"
    }
   ],
   "source": [
    "fig, ax = plt.subplots()\n",
    "for column in elastic_coef.columns:\n",
    "    ax.plot(alphas, elastic_coef[column], label=column)\n",
    "ax.set_xlabel('alpha')\n",
    "ax.set_ylabel('coefficient')"
   ]
  },
  {
   "cell_type": "code",
   "execution_count": 37,
   "metadata": {},
   "outputs": [
    {
     "name": "stdout",
     "output_type": "stream",
     "text": [
      "enrollment    0.000363\n",
      "study_hrs     0.021322\n",
      "exp_gpa       0.870938\n",
      "dtype: float64\n"
     ]
    }
   ],
   "source": [
    "elastic_fit = smf.ols(full_model, df).fit_regularized('elastic_net', 0.3, 1.0)\n",
    "print(elastic_fit.params[elastic_fit.params != 0])"
   ]
  },
  {
   "cell_type": "code",
   "execution_count": null,
   "metadata": {},
   "outputs": [],
   "source": []
  }
 ],
 "metadata": {
  "kernelspec": {
   "display_name": "base",
   "language": "python",
   "name": "python3"
  },
  "language_info": {
   "codemirror_mode": {
    "name": "ipython",
    "version": 3
   },
   "file_extension": ".py",
   "mimetype": "text/x-python",
   "name": "python",
   "nbconvert_exporter": "python",
   "pygments_lexer": "ipython3",
   "version": "3.11.2"
  }
 },
 "nbformat": 4,
 "nbformat_minor": 2
}
