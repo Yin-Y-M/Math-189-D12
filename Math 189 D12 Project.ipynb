{
 "cells": [
  {
   "cell_type": "markdown",
   "metadata": {},
   "source": [
    "# Math 189"
   ]
  },
  {
   "cell_type": "markdown",
   "metadata": {},
   "source": [
    "### Setup"
   ]
  },
  {
   "cell_type": "code",
   "execution_count": 2,
   "metadata": {},
   "outputs": [],
   "source": [
    "# Imports\n",
    "import re\n",
    "\n",
    "import pandas as pd\n",
    "import numpy as np\n",
    "import seaborn as sns\n",
    "import matplotlib.pyplot as plt\n",
    "\n",
    "import scipy.stats as stats\n",
    "import statsmodels\n",
    "import statsmodels.api as sm\n",
    "import statsmodels.formula.api as smf\n",
    "from statsmodels.tsa.stattools import acf\n",
    "from statsmodels.stats.outliers_influence import variance_inflation_factor\n",
    "\n",
    "from sklearn.model_selection import train_test_split\n",
    "from sklearn.linear_model import LinearRegression\n",
    "from sklearn.metrics import mean_squared_error, r2_score"
   ]
  },
  {
   "cell_type": "code",
   "execution_count": 3,
   "metadata": {},
   "outputs": [
    {
     "data": {
      "text/html": [
       "<div>\n",
       "<style scoped>\n",
       "    .dataframe tbody tr th:only-of-type {\n",
       "        vertical-align: middle;\n",
       "    }\n",
       "\n",
       "    .dataframe tbody tr th {\n",
       "        vertical-align: top;\n",
       "    }\n",
       "\n",
       "    .dataframe thead th {\n",
       "        text-align: right;\n",
       "    }\n",
       "</style>\n",
       "<table border=\"1\" class=\"dataframe\">\n",
       "  <thead>\n",
       "    <tr style=\"text-align: right;\">\n",
       "      <th></th>\n",
       "      <th>Instructor</th>\n",
       "      <th>Course</th>\n",
       "      <th>Quarter</th>\n",
       "      <th>Total Enrolled in Course</th>\n",
       "      <th>Total CAPEs Given</th>\n",
       "      <th>Percentage Recommended Class</th>\n",
       "      <th>Percentage Recommended Professor</th>\n",
       "      <th>Study Hours per Week</th>\n",
       "      <th>Average Grade Expected</th>\n",
       "      <th>Average Grade Received</th>\n",
       "      <th>Evalulation URL</th>\n",
       "    </tr>\n",
       "  </thead>\n",
       "  <tbody>\n",
       "    <tr>\n",
       "      <th>0</th>\n",
       "      <td>Butler Elizabeth Annette</td>\n",
       "      <td>AAS 10 - Intro/African-American Studies (A)</td>\n",
       "      <td>SP23</td>\n",
       "      <td>66</td>\n",
       "      <td>48</td>\n",
       "      <td>93.5%</td>\n",
       "      <td>100.0%</td>\n",
       "      <td>2.80</td>\n",
       "      <td>A- (3.84)</td>\n",
       "      <td>B+ (3.67)</td>\n",
       "      <td>https://cape.ucsd.edu/CAPEReport.aspx?sectioni...</td>\n",
       "    </tr>\n",
       "    <tr>\n",
       "      <th>1</th>\n",
       "      <td>Butler Elizabeth Annette</td>\n",
       "      <td>AAS 170 - Legacies of Research (A)</td>\n",
       "      <td>SP23</td>\n",
       "      <td>20</td>\n",
       "      <td>7</td>\n",
       "      <td>100.0%</td>\n",
       "      <td>100.0%</td>\n",
       "      <td>2.50</td>\n",
       "      <td>A- (3.86)</td>\n",
       "      <td>A- (3.92)</td>\n",
       "      <td>https://cape.ucsd.edu/CAPEReport.aspx?sectioni...</td>\n",
       "    </tr>\n",
       "    <tr>\n",
       "      <th>2</th>\n",
       "      <td>Jones Ian William Nasser</td>\n",
       "      <td>ANAR 111 - Foundations of Archaeology (A)</td>\n",
       "      <td>SP23</td>\n",
       "      <td>16</td>\n",
       "      <td>3</td>\n",
       "      <td>100.0%</td>\n",
       "      <td>100.0%</td>\n",
       "      <td>3.83</td>\n",
       "      <td>B+ (3.67)</td>\n",
       "      <td>NaN</td>\n",
       "      <td>https://cape.ucsd.edu/CAPEReport.aspx?sectioni...</td>\n",
       "    </tr>\n",
       "    <tr>\n",
       "      <th>3</th>\n",
       "      <td>Shtienberg Gilad</td>\n",
       "      <td>ANAR 115 - Coastal Geomorphology/Environ (A)</td>\n",
       "      <td>SP23</td>\n",
       "      <td>26</td>\n",
       "      <td>6</td>\n",
       "      <td>100.0%</td>\n",
       "      <td>83.3%</td>\n",
       "      <td>3.83</td>\n",
       "      <td>B+ (3.50)</td>\n",
       "      <td>B (3.07)</td>\n",
       "      <td>https://cape.ucsd.edu/CAPEReport.aspx?sectioni...</td>\n",
       "    </tr>\n",
       "    <tr>\n",
       "      <th>4</th>\n",
       "      <td>Braswell Geoffrey E.</td>\n",
       "      <td>ANAR 155 - Stdy Abrd: Ancient Mesoamerica (A)</td>\n",
       "      <td>SP23</td>\n",
       "      <td>22</td>\n",
       "      <td>9</td>\n",
       "      <td>100.0%</td>\n",
       "      <td>100.0%</td>\n",
       "      <td>5.17</td>\n",
       "      <td>A (4.00)</td>\n",
       "      <td>A (4.00)</td>\n",
       "      <td>https://cape.ucsd.edu/CAPEReport.aspx?sectioni...</td>\n",
       "    </tr>\n",
       "  </tbody>\n",
       "</table>\n",
       "</div>"
      ],
      "text/plain": [
       "                 Instructor                                         Course   \n",
       "0  Butler Elizabeth Annette    AAS 10 - Intro/African-American Studies (A)  \\\n",
       "1  Butler Elizabeth Annette             AAS 170 - Legacies of Research (A)   \n",
       "2  Jones Ian William Nasser      ANAR 111 - Foundations of Archaeology (A)   \n",
       "3          Shtienberg Gilad   ANAR 115 - Coastal Geomorphology/Environ (A)   \n",
       "4      Braswell Geoffrey E.  ANAR 155 - Stdy Abrd: Ancient Mesoamerica (A)   \n",
       "\n",
       "  Quarter  Total Enrolled in Course  Total CAPEs Given   \n",
       "0    SP23                        66                 48  \\\n",
       "1    SP23                        20                  7   \n",
       "2    SP23                        16                  3   \n",
       "3    SP23                        26                  6   \n",
       "4    SP23                        22                  9   \n",
       "\n",
       "  Percentage Recommended Class Percentage Recommended Professor   \n",
       "0                        93.5%                           100.0%  \\\n",
       "1                       100.0%                           100.0%   \n",
       "2                       100.0%                           100.0%   \n",
       "3                       100.0%                            83.3%   \n",
       "4                       100.0%                           100.0%   \n",
       "\n",
       "   Study Hours per Week Average Grade Expected Average Grade Received   \n",
       "0                  2.80              A- (3.84)              B+ (3.67)  \\\n",
       "1                  2.50              A- (3.86)              A- (3.92)   \n",
       "2                  3.83              B+ (3.67)                    NaN   \n",
       "3                  3.83              B+ (3.50)               B (3.07)   \n",
       "4                  5.17               A (4.00)               A (4.00)   \n",
       "\n",
       "                                     Evalulation URL  \n",
       "0  https://cape.ucsd.edu/CAPEReport.aspx?sectioni...  \n",
       "1  https://cape.ucsd.edu/CAPEReport.aspx?sectioni...  \n",
       "2  https://cape.ucsd.edu/CAPEReport.aspx?sectioni...  \n",
       "3  https://cape.ucsd.edu/CAPEReport.aspx?sectioni...  \n",
       "4  https://cape.ucsd.edu/CAPEReport.aspx?sectioni...  "
      ]
     },
     "execution_count": 3,
     "metadata": {},
     "output_type": "execute_result"
    }
   ],
   "source": [
    "# Load the data\n",
    "df = pd.read_csv('capes_data.csv')\n",
    "df.head()"
   ]
  },
  {
   "cell_type": "markdown",
   "metadata": {},
   "source": [
    "### Data Cleaning"
   ]
  },
  {
   "cell_type": "markdown",
   "metadata": {},
   "source": [
    "Since the evaluation URL does not have any influence on our result, it will be deleted. The name of the instructors will also be removed to streamline our analysis towards more generalizable insights focusing on other relevant variables. In addition, rows containing missing values will be eliminated."
   ]
  },
  {
   "cell_type": "code",
   "execution_count": 4,
   "metadata": {},
   "outputs": [],
   "source": [
    "df = df.drop('Evalulation URL', axis=1)\n",
    "df = df.drop('Instructor', axis=1)\n",
    "df = df.dropna().reset_index(drop=True)"
   ]
  },
  {
   "cell_type": "markdown",
   "metadata": {},
   "source": [
    "For later analysis, we will only preserve the numerical GPA from `Average Grade Expected` and `Average Grade Received`."
   ]
  },
  {
   "cell_type": "code",
   "execution_count": 5,
   "metadata": {},
   "outputs": [],
   "source": [
    "df['exp_gpa'] = df['Average Grade Expected'].str.extract(r'(\\d+\\.\\d+)').astype(float)\n",
    "df['rec_gpa'] = df['Average Grade Received'].str.extract(r'(\\d+\\.\\d+)').astype(float)\n",
    "\n",
    "df = df.drop('Average Grade Expected', axis=1)\n",
    "df = df.drop('Average Grade Received', axis=1)"
   ]
  },
  {
   "cell_type": "markdown",
   "metadata": {},
   "source": [
    "We extract the season part from `Quarter` and rename them as `season`."
   ]
  },
  {
   "cell_type": "code",
   "execution_count": 6,
   "metadata": {},
   "outputs": [],
   "source": [
    "df['season'] = df['Quarter'].str[0:2]\n",
    "df['season'] = df['season'].replace(['S1', 'S2', 'S3', 'SU'], 'SS')\n",
    "df['season'] = df['season'].astype('category')\n",
    "df['Quarter'] = df['Quarter'].astype('category')"
   ]
  },
  {
   "cell_type": "markdown",
   "metadata": {},
   "source": [
    "Proportion of people filling CAPES will be used to replace the number of those filling CAPES."
   ]
  },
  {
   "cell_type": "code",
   "execution_count": 7,
   "metadata": {},
   "outputs": [],
   "source": [
    "df['cape_prop'] = df['Total CAPEs Given']/df['Total Enrolled in Course']\n",
    "df = df.drop('Total CAPEs Given', axis=1)"
   ]
  },
  {
   "cell_type": "markdown",
   "metadata": {},
   "source": [
    "In order to ensure our data is representative, we will drop courses with survey response rates below 50%."
   ]
  },
  {
   "cell_type": "code",
   "execution_count": 8,
   "metadata": {},
   "outputs": [],
   "source": [
    "# Only take rows with more than 50% evaluating proportion\n",
    "df = df[df['cape_prop'] > 0.50] # 45393 -> 18860"
   ]
  },
  {
   "cell_type": "markdown",
   "metadata": {},
   "source": [
    "Two key information will be extracted from the name of each course: which subject code does the course have and whether it is an upper course or lower course."
   ]
  },
  {
   "cell_type": "code",
   "execution_count": 9,
   "metadata": {},
   "outputs": [
    {
     "name": "stdout",
     "output_type": "stream",
     "text": [
      "In total there are 121 subject codes\n"
     ]
    }
   ],
   "source": [
    "course_info = df['Course'].apply(lambda x: re.findall(r\"[\\w+\\s\\d+]+\\b\", x)[0])\n",
    "print(f\"In total there are {course_info.apply(lambda x: x.split()[0]).value_counts().shape[0]} subject codes\")\n",
    "\n",
    "df['Course'] = pd.Series(course_info).apply(lambda x: x.split()[0])\n",
    "if_lower = course_info.apply(lambda x: x.split()[1]).apply(lambda x: 1 if int(re.findall(r\"\\d+\", x)[0]) < 100 else 0)\n",
    "df['if_lower'] = if_lower\n",
    "df.rename(columns={\"Course\" : \"subject_code\"}, inplace=True)\n",
    "\n",
    "df['if_lower'] = df['if_lower'].astype('category')\n",
    "df['subject_code'] = df['subject_code'].astype('category')"
   ]
  },
  {
   "cell_type": "markdown",
   "metadata": {},
   "source": [
    "We will convert the subject codes into different fields."
   ]
  },
  {
   "cell_type": "code",
   "execution_count": 10,
   "metadata": {},
   "outputs": [],
   "source": [
    "# Natural and Physical Sciences\n",
    "nat_phys_sci = [\n",
    "    \"ASTR\", \"BIBC\", \"BICD\", \"BIEB\", \"BILD\", \"BIMM\", \"BIPN\", \"BISP\", \n",
    "    \"CHEM\", \"CMM\", \"COGS\", \"DSC\", \"DSE\", \"MATH\", \"PHYS\", \"PHYA\", \n",
    "    \"SIO\", \"SIOB\", \"SIOC\", \"SIOG\"\n",
    "]\n",
    "\n",
    "# Engineering and Technology\n",
    "eng_tech = [\n",
    "    \"AESE\", \"BENG\", \"CENG\", \"COSE\", \"CSE\", \"ECE\", \"ENG\", \"MAE\", \"MATS\", \n",
    "    \"NANO\", \"SE\", \"WES\"\n",
    "]\n",
    "\n",
    "# Health and Medicine\n",
    "# health_med = [\n",
    "#     \"ANES\", \"BIOM\", \"CLIN\", \"CLRE\", \"DERM\", \"EMED\", \"FMPH\", \"GLBH\", \n",
    "#     \"HLAW\", \"LHCO\", \"MED\", \"NEU\", \"NEUG\", \"OBG\", \"OPTH\", \"ORTH\", \n",
    "#     \"PAE\", \"PATH\", \"PEDS\", \"PHAR\", \"PSY\", \"RAD\", \"RMAS\", \"RMED\", \n",
    "#     \"SOMC\", \"SOMI\", \"SPPS\", \"SURG\", \"UROL\", \"FPMU\"\n",
    "# ]\n",
    "\n",
    "# Art and Design\n",
    "art_design = [\n",
    "    \"COCU\", \"COGN\", \"COSF\", \"COHI\", \"COMT\", \"DSGN\", \"FILM\", \"ICAM\", \n",
    "    \"MUS\", \"TDAC\", \"TDCH\", \"TDDE\", \"TDDM\", \"TDDR\", \"TDGE\", \"TDGR\", \n",
    "    \"TDHD\", \"TDHT\", \"TDMV\", \"TDPF\", \"TDPR\", \"TDPW\", \"TDTR\", \"VIS\"\n",
    "]\n",
    "\n",
    "# Humanities and Social Sciences\n",
    "human_soc_sci = [\n",
    "    \"AAPI\", \"AAS\", \"ANAR\", \"ANBI\", \"ANSC\", \"ANTH\", \"CGS\", \"CCS\", \"CCE\",\n",
    "    \"CHIN\", \"CLAS\", \"COMM\", \"CONT\", \"CSS\", \"ECON\", \"EDS\", \"ENVR\", \"ERC\",\n",
    "    \"ESYS\", \"ETHN\", \"ETIM\", \"GSS\", \"GMST\", \"HDP\", \"HDS\", \"HIAF\", \"HIEA\",\n",
    "    \"HIEU\", \"HILA\", \"HILD\", \"HINE\", \"HISC\", \"HITO\", \"HIUS\", \"HMNR\", \"HUM\",\n",
    "    \"INTL\", \"JAPN\", \"JUDA\", \"JWSP\", \"LAWS\", \"LATI\", \"LIHL\", \"LTAF\", \"LTAM\",\n",
    "    \"LTCH\", \"LTCS\", \"LTEA\", \"LTEN\", \"LTEU\", \"LTFR\", \"LTGM\", \"LTGK\", \"LTHI\",\n",
    "    \"LIGN\", \"LTLA\", \"LTRU\", \"LTSP\", \"LTTH\", \"LTWR\", \"LTIT\", \"LTKO\", \"LTKS\",\n",
    "    \"LTWL\", \"LTCO\", \"MGTA\", \"MGT\", \"MGTF\", \"MGTP\", \"PHIL\", \"POLI\", \"PSYC\",\n",
    "    \"RELI\", \"SOCA\", \"SOCB\", \"SOCC\", \"SOCD\", \"SOCE\", \"SOCI\", \"SOCL\", \"STPA\",\n",
    "    \"TKS\", \"TWS\", \"USP\", \"GLBH\", \"FMPH\", \"FPMU\"\n",
    "]\n",
    "\n",
    "\n",
    "\n",
    "# College and Writing Programs\n",
    "col_write_prog = [\n",
    "    \"AWP\", \"CAT\", \"DOC\", \"EAP\", \"ELWR\", \"ERC\", \"EIGH\", \"MCWP\", \"MMW\", \n",
    "    \"MSP\", \"MUIR\", \"REV\", \"SEV\", \"SXTH\", \"SYN\", \"TMC\", \"WARR\", \"WCWP\"\n",
    "]\n"
   ]
  },
  {
   "cell_type": "markdown",
   "metadata": {},
   "source": [
    "Note: Subject Codes acquired from [here](https://blink.ucsd.edu/instructors/courses/schedule-of-classes/subject-codes.html)"
   ]
  },
  {
   "cell_type": "code",
   "execution_count": 11,
   "metadata": {},
   "outputs": [],
   "source": [
    "def set_field(course):\n",
    "    if course in eng_tech:\n",
    "        return \"eng_tech\"\n",
    "    elif course in nat_phys_sci:\n",
    "        return \"nat_phys_sci\"\n",
    "    # elif course in health_med:\n",
    "    #     return \"health_med\"\n",
    "    elif course in human_soc_sci:\n",
    "        return \"human_soc_sci\"\n",
    "    elif course in art_design:\n",
    "        return \"art_design\"\n",
    "    elif course in col_write_prog:\n",
    "        return \"col_write_prog\"\n",
    "    return np.nan\n",
    "\n",
    "df[\"field\"] = df['subject_code'].apply(set_field)"
   ]
  },
  {
   "cell_type": "markdown",
   "metadata": {},
   "source": [
    "Some other columns will be renamed for simplicity and converted to appropriate data types."
   ]
  },
  {
   "cell_type": "code",
   "execution_count": 12,
   "metadata": {},
   "outputs": [],
   "source": [
    "df = df.rename(columns={\n",
    "    'Percentage Recommended Class': 'recmd_class',\n",
    "    'Percentage Recommended Professor': 'recmd_prof',\n",
    "    'Study Hours per Week': 'study_hrs',\n",
    "    'Total Enrolled in Course' : 'enrollment'\n",
    "})\n",
    "\n",
    "df['recmd_class'] = df['recmd_class'].str.extract(r'(\\d+)').astype(float)/100\n",
    "df['recmd_prof'] = df['recmd_prof'].str.extract(r'(\\d+)').astype(float)/100"
   ]
  },
  {
   "cell_type": "markdown",
   "metadata": {},
   "source": [
    "The sequence number will be updated. "
   ]
  },
  {
   "cell_type": "code",
   "execution_count": 13,
   "metadata": {},
   "outputs": [],
   "source": [
    "df = df.reset_index(drop=True)"
   ]
  },
  {
   "cell_type": "markdown",
   "metadata": {},
   "source": [
    "Now, let's take a look at the cleaned dataset."
   ]
  },
  {
   "cell_type": "code",
   "execution_count": 14,
   "metadata": {},
   "outputs": [
    {
     "data": {
      "text/html": [
       "<div>\n",
       "<style scoped>\n",
       "    .dataframe tbody tr th:only-of-type {\n",
       "        vertical-align: middle;\n",
       "    }\n",
       "\n",
       "    .dataframe tbody tr th {\n",
       "        vertical-align: top;\n",
       "    }\n",
       "\n",
       "    .dataframe thead th {\n",
       "        text-align: right;\n",
       "    }\n",
       "</style>\n",
       "<table border=\"1\" class=\"dataframe\">\n",
       "  <thead>\n",
       "    <tr style=\"text-align: right;\">\n",
       "      <th></th>\n",
       "      <th>subject_code</th>\n",
       "      <th>Quarter</th>\n",
       "      <th>enrollment</th>\n",
       "      <th>recmd_class</th>\n",
       "      <th>recmd_prof</th>\n",
       "      <th>study_hrs</th>\n",
       "      <th>exp_gpa</th>\n",
       "      <th>rec_gpa</th>\n",
       "      <th>season</th>\n",
       "      <th>cape_prop</th>\n",
       "      <th>if_lower</th>\n",
       "      <th>field</th>\n",
       "    </tr>\n",
       "  </thead>\n",
       "  <tbody>\n",
       "    <tr>\n",
       "      <th>0</th>\n",
       "      <td>AAS</td>\n",
       "      <td>SP23</td>\n",
       "      <td>66</td>\n",
       "      <td>0.93</td>\n",
       "      <td>1.00</td>\n",
       "      <td>2.80</td>\n",
       "      <td>3.84</td>\n",
       "      <td>3.67</td>\n",
       "      <td>SP</td>\n",
       "      <td>0.727273</td>\n",
       "      <td>1</td>\n",
       "      <td>human_soc_sci</td>\n",
       "    </tr>\n",
       "    <tr>\n",
       "      <th>1</th>\n",
       "      <td>ANSC</td>\n",
       "      <td>SP23</td>\n",
       "      <td>30</td>\n",
       "      <td>0.95</td>\n",
       "      <td>1.00</td>\n",
       "      <td>3.45</td>\n",
       "      <td>3.79</td>\n",
       "      <td>3.67</td>\n",
       "      <td>SP</td>\n",
       "      <td>0.666667</td>\n",
       "      <td>0</td>\n",
       "      <td>human_soc_sci</td>\n",
       "    </tr>\n",
       "    <tr>\n",
       "      <th>2</th>\n",
       "      <td>ANSC</td>\n",
       "      <td>SP23</td>\n",
       "      <td>36</td>\n",
       "      <td>0.92</td>\n",
       "      <td>0.96</td>\n",
       "      <td>4.02</td>\n",
       "      <td>3.60</td>\n",
       "      <td>3.40</td>\n",
       "      <td>SP</td>\n",
       "      <td>0.694444</td>\n",
       "      <td>0</td>\n",
       "      <td>human_soc_sci</td>\n",
       "    </tr>\n",
       "    <tr>\n",
       "      <th>3</th>\n",
       "      <td>ANSC</td>\n",
       "      <td>SP23</td>\n",
       "      <td>24</td>\n",
       "      <td>1.00</td>\n",
       "      <td>1.00</td>\n",
       "      <td>3.56</td>\n",
       "      <td>4.00</td>\n",
       "      <td>3.91</td>\n",
       "      <td>SP</td>\n",
       "      <td>0.708333</td>\n",
       "      <td>0</td>\n",
       "      <td>human_soc_sci</td>\n",
       "    </tr>\n",
       "    <tr>\n",
       "      <th>4</th>\n",
       "      <td>ANTH</td>\n",
       "      <td>SP23</td>\n",
       "      <td>74</td>\n",
       "      <td>0.98</td>\n",
       "      <td>1.00</td>\n",
       "      <td>3.01</td>\n",
       "      <td>3.72</td>\n",
       "      <td>3.75</td>\n",
       "      <td>SP</td>\n",
       "      <td>0.702703</td>\n",
       "      <td>1</td>\n",
       "      <td>human_soc_sci</td>\n",
       "    </tr>\n",
       "  </tbody>\n",
       "</table>\n",
       "</div>"
      ],
      "text/plain": [
       "  subject_code Quarter  enrollment  recmd_class  recmd_prof  study_hrs   \n",
       "0          AAS    SP23          66         0.93        1.00       2.80  \\\n",
       "1         ANSC    SP23          30         0.95        1.00       3.45   \n",
       "2         ANSC    SP23          36         0.92        0.96       4.02   \n",
       "3         ANSC    SP23          24         1.00        1.00       3.56   \n",
       "4         ANTH    SP23          74         0.98        1.00       3.01   \n",
       "\n",
       "   exp_gpa  rec_gpa season  cape_prop if_lower          field  \n",
       "0     3.84     3.67     SP   0.727273        1  human_soc_sci  \n",
       "1     3.79     3.67     SP   0.666667        0  human_soc_sci  \n",
       "2     3.60     3.40     SP   0.694444        0  human_soc_sci  \n",
       "3     4.00     3.91     SP   0.708333        0  human_soc_sci  \n",
       "4     3.72     3.75     SP   0.702703        1  human_soc_sci  "
      ]
     },
     "execution_count": 14,
     "metadata": {},
     "output_type": "execute_result"
    }
   ],
   "source": [
    "df.head()"
   ]
  },
  {
   "cell_type": "markdown",
   "metadata": {},
   "source": [
    "### Exploratory Data Analysis"
   ]
  },
  {
   "cell_type": "markdown",
   "metadata": {},
   "source": [
    "We can obtain a general understanding of the distribution of the average grade received by drawing a histogram before further analysis."
   ]
  },
  {
   "cell_type": "code",
   "execution_count": 15,
   "metadata": {},
   "outputs": [
    {
     "data": {
      "image/png": "[encoded data removed]",
      "text/plain": [
       "<Figure size 640x480 with 1 Axes>"
      ]
     },
     "metadata": {},
     "output_type": "display_data"
    }
   ],
   "source": [
    "sns.histplot(df['rec_gpa'], bins=25)\n",
    "plt.show()"
   ]
  },
  {
   "cell_type": "code",
   "execution_count": 16,
   "metadata": {},
   "outputs": [
    {
     "data": {
      "image/png": "[encoded data removed]",
      "text/plain": [
       "<Figure size 640x480 with 2 Axes>"
      ]
     },
     "metadata": {},
     "output_type": "display_data"
    }
   ],
   "source": [
    "# Correlation\n",
    "quan_data = df.drop(columns={\n",
    "    'subject_code',\n",
    "    'field',\n",
    "    'Quarter',\n",
    "    'season',\n",
    "    'if_lower'\n",
    "})\n",
    "correlation_matrix = quan_data.corr()\n",
    "sns.heatmap(correlation_matrix, annot=True, cmap='coolwarm')\n",
    "plt.show()"
   ]
  },
  {
   "cell_type": "markdown",
   "metadata": {},
   "source": [
    "### Hypothesis Testing"
   ]
  },
  {
   "cell_type": "markdown",
   "metadata": {},
   "source": [
    "### Regression Analysis"
   ]
  },
  {
   "cell_type": "markdown",
   "metadata": {},
   "source": [
    "We will first perform a regular linear regression based on all the covariates we have obtained so far."
   ]
  },
  {
   "cell_type": "code",
   "execution_count": 17,
   "metadata": {},
   "outputs": [
    {
     "name": "stdout",
     "output_type": "stream",
     "text": [
      "                            OLS Regression Results                            \n",
      "==============================================================================\n",
      "Dep. Variable:                rec_gpa   R-squared:                       0.577\n",
      "Model:                            OLS   Adj. R-squared:                  0.576\n",
      "Method:                 Least Squares   F-statistic:                     1832.\n",
      "Date:                Sat, 08 Jun 2024   Prob (F-statistic):               0.00\n",
      "Time:                        13:44:41   Log-Likelihood:                -904.47\n",
      "No. Observations:               18860   AIC:                             1839.\n",
      "Df Residuals:                   18845   BIC:                             1957.\n",
      "Df Model:                          14                                         \n",
      "Covariance Type:            nonrobust                                         \n",
      "===========================================================================================\n",
      "                              coef    std err          t      P>|t|      [0.025      0.975]\n",
      "-------------------------------------------------------------------------------------------\n",
      "Intercept                  -0.2428      0.033     -7.417      0.000      -0.307      -0.179\n",
      "season[T.SP]                0.0405      0.005      8.390      0.000       0.031       0.050\n",
      "season[T.SS]                0.0285      0.008      3.520      0.000       0.013       0.044\n",
      "season[T.WI]                0.0233      0.005      5.136      0.000       0.014       0.032\n",
      "if_lower[T.1]              -0.0231      0.004     -5.582      0.000      -0.031      -0.015\n",
      "field[T.col_write_prog]    -0.1013      0.011     -9.386      0.000      -0.122      -0.080\n",
      "field[T.eng_tech]          -0.0869      0.009     -9.673      0.000      -0.105      -0.069\n",
      "field[T.human_soc_sci]     -0.0797      0.007    -11.151      0.000      -0.094      -0.066\n",
      "field[T.nat_phys_sci]      -0.0947      0.008    -11.756      0.000      -0.110      -0.079\n",
      "enrollment                 -0.0003   2.32e-05    -11.285      0.000      -0.000      -0.000\n",
      "recmd_class                -0.3148      0.026    -12.245      0.000      -0.365      -0.264\n",
      "recmd_prof                  0.0991      0.021      4.810      0.000       0.059       0.139\n",
      "study_hrs                   0.0041      0.001      3.872      0.000       0.002       0.006\n",
      "exp_gpa                     1.0570      0.009    121.492      0.000       1.040       1.074\n",
      "cape_prop                   0.1578      0.013     12.162      0.000       0.132       0.183\n",
      "==============================================================================\n",
      "Omnibus:                      891.569   Durbin-Watson:                   1.378\n",
      "Prob(Omnibus):                  0.000   Jarque-Bera (JB):             1418.188\n",
      "Skew:                          -0.412   Prob(JB):                    1.11e-308\n",
      "Kurtosis:                       4.060   Cond. No.                     2.48e+03\n",
      "==============================================================================\n",
      "\n",
      "Notes:\n",
      "[1] Standard Errors assume that the covariance matrix of the errors is correctly specified.\n",
      "[2] The condition number is large, 2.48e+03. This might indicate that there are\n",
      "strong multicollinearity or other numerical problems.\n"
     ]
    }
   ],
   "source": [
    "formula = 'rec_gpa ~ enrollment + recmd_class + recmd_prof + study_hrs + exp_gpa + season + cape_prop + if_lower+field'\n",
    "model = smf.ols(formula, data=df).fit()\n",
    "print(model.summary())"
   ]
  },
  {
   "cell_type": "markdown",
   "metadata": {},
   "source": [
    "##### Assumptions"
   ]
  },
  {
   "cell_type": "code",
   "execution_count": 18,
   "metadata": {},
   "outputs": [],
   "source": [
    "def standardize(X):\n",
    "    return (X - X.mean()) / X.std()\n",
    "\n",
    "residuals = standardize(model.resid)"
   ]
  },
  {
   "cell_type": "markdown",
   "metadata": {},
   "source": [
    "1. Normality"
   ]
  },
  {
   "cell_type": "code",
   "execution_count": 19,
   "metadata": {},
   "outputs": [
    {
     "data": {
      "image/png": "[encoded data removed]",
      "text/plain": [
       "<Figure size 640x480 with 1 Axes>"
      ]
     },
     "metadata": {},
     "output_type": "display_data"
    }
   ],
   "source": [
    "sm.qqplot(residuals, line='s');"
   ]
  },
  {
   "cell_type": "markdown",
   "metadata": {},
   "source": [
    "Although violated, We only care about the values\n",
    "what do people do if they have non-normal residual"
   ]
  },
  {
   "cell_type": "code",
   "execution_count": 20,
   "metadata": {},
   "outputs": [
    {
     "name": "stdout",
     "output_type": "stream",
     "text": [
      "Shapiro-Wilk test p-value:  1.5166217854562317e-36\n",
      "The residuals are not normally distributed\n"
     ]
    }
   ],
   "source": [
    "import warnings\n",
    "warnings.filterwarnings('ignore')\n",
    "\n",
    "alpha = 0.05\n",
    "\n",
    "shapiro = stats.shapiro(residuals)\n",
    "\n",
    "print('Shapiro-Wilk test p-value: ', shapiro[1])\n",
    "\n",
    "if shapiro[1] < alpha:\n",
    "    print('The residuals are not normally distributed')\n",
    "else:\n",
    "    print('The residuals are normally distributed')"
   ]
  },
  {
   "cell_type": "markdown",
   "metadata": {},
   "source": [
    "By looking at the qqplot and running the Shapiro-Wilk test, we can see that the normality assumption has been violated. We did try to fix this issue by applying transformations such as log and square root. Unfortunately, the problem still exists."
   ]
  },
  {
   "cell_type": "code",
   "execution_count": 21,
   "metadata": {},
   "outputs": [
    {
     "name": "stdout",
     "output_type": "stream",
     "text": [
      "Shapiro-Wilk test p-value:  0.0\n",
      "The residuals are not normally distributed\n"
     ]
    }
   ],
   "source": [
    "log_y = np.log(df['rec_gpa'])\n",
    "log_formula = 'log_y ~ enrollment + recmd_class + recmd_prof + study_hrs + exp_gpa + season + cape_prop + if_lower + field'\n",
    "log_model = smf.ols(log_formula, data=df).fit()\n",
    "log_residuals = standardize(log_model.resid)\n",
    "\n",
    "shapiro = stats.shapiro(log_residuals)\n",
    "print('Shapiro-Wilk test p-value: ', shapiro[1])\n",
    "if shapiro[1] < alpha:\n",
    "    print('The residuals are not normally distributed')\n",
    "else:\n",
    "    print('The residuals are normally distributed')"
   ]
  },
  {
   "cell_type": "code",
   "execution_count": 22,
   "metadata": {},
   "outputs": [
    {
     "name": "stdout",
     "output_type": "stream",
     "text": [
      "Shapiro-Wilk test p-value:  5.605193857299268e-45\n",
      "The residuals are not normally distributed\n"
     ]
    }
   ],
   "source": [
    "sqrt_y = np.sqrt(df['rec_gpa'])\n",
    "sqrt_formula = 'sqrt_y ~ enrollment + recmd_class + recmd_prof + study_hrs + exp_gpa + season + cape_prop + if_lower + field'\n",
    "sqrt_model = smf.ols(sqrt_formula, data=df).fit()\n",
    "sqrt_residuals = standardize(sqrt_model.resid)\n",
    "\n",
    "shapiro = stats.shapiro(sqrt_residuals)\n",
    "print('Shapiro-Wilk test p-value: ', shapiro[1])\n",
    "if shapiro[1] < alpha:\n",
    "    print('The residuals are not normally distributed')\n",
    "else:\n",
    "    print('The residuals are normally distributed')"
   ]
  },
  {
   "cell_type": "markdown",
   "metadata": {},
   "source": [
    "2. Independence"
   ]
  },
  {
   "cell_type": "code",
   "execution_count": 23,
   "metadata": {},
   "outputs": [
    {
     "data": {
      "image/png": "[encoded data removed]",
      "text/plain": [
       "<Figure size 640x480 with 1 Axes>"
      ]
     },
     "metadata": {},
     "output_type": "display_data"
    }
   ],
   "source": [
    "# scatter plot of residuals vs observation index\n",
    "plt.scatter(range(len(residuals)), residuals);\n",
    "plt.xlabel('Observation');\n",
    "plt.ylabel('Standardized Residuals');"
   ]
  },
  {
   "cell_type": "markdown",
   "metadata": {},
   "source": [
    "Based on the plot, the points are randomly distributed, which means that the independence of residuals assumption is statisfied."
   ]
  },
  {
   "cell_type": "markdown",
   "metadata": {},
   "source": [
    "3. Linearity"
   ]
  },
  {
   "cell_type": "code",
   "execution_count": 24,
   "metadata": {},
   "outputs": [
    {
     "data": {
      "image/png": "[encoded data removed]",
      "text/plain": [
       "<Figure size 640x480 with 1 Axes>"
      ]
     },
     "metadata": {},
     "output_type": "display_data"
    }
   ],
   "source": [
    "# scatter plot of residuals vs fitted values\n",
    "plt.scatter(model.fittedvalues, residuals);\n",
    "plt.xlabel('Fitted Values');\n",
    "plt.ylabel('Standardized Residuals');"
   ]
  },
  {
   "cell_type": "markdown",
   "metadata": {},
   "source": [
    "Based on the plot, the linear assumption has been satisfied."
   ]
  },
  {
   "cell_type": "markdown",
   "metadata": {},
   "source": [
    "4. Homoscedasticity"
   ]
  },
  {
   "cell_type": "code",
   "execution_count": 25,
   "metadata": {},
   "outputs": [
    {
     "name": "stdout",
     "output_type": "stream",
     "text": [
      "7.988066298643586e-134\n",
      "The residuals are heteroscedastic\n"
     ]
    }
   ],
   "source": [
    "from statsmodels.stats.diagnostic import het_breuschpagan\n",
    "\n",
    "alpha = 0.05\n",
    "\n",
    "p_values = het_breuschpagan(model.resid, model.model.exog)[3]\n",
    "print(p_values)\n",
    "\n",
    "if p_values < alpha:\n",
    "    print('The residuals are heteroscedastic')\n",
    "else:\n",
    "    print('The residuals are homoscedastic')"
   ]
  },
  {
   "cell_type": "markdown",
   "metadata": {},
   "source": [
    "By running the Breusch-Pagan Test, the homoscedasticity assumption has been violated. However, the estimated coefficients remain unbiased. Since we are only interested in the values instead of the variance and confidence intervals, it doesn't have significant impact on our model.\n"
   ]
  },
  {
   "cell_type": "markdown",
   "metadata": {},
   "source": [
    "5. Non-Multicollinearity"
   ]
  },
  {
   "cell_type": "code",
   "execution_count": 26,
   "metadata": {},
   "outputs": [
    {
     "name": "stdout",
     "output_type": "stream",
     "text": [
      "VIF: season[T.SP]: 1.324\n",
      "VIF: season[T.SS]: 1.192\n",
      "VIF: season[T.WI]: 1.318\n",
      "VIF: if_lower[T.1]: 1.200\n",
      "VIF: field[T.col_write_prog]: 1.867\n",
      "VIF: field[T.eng_tech]: 3.116\n",
      "VIF: field[T.human_soc_sci]: 3.676\n",
      "VIF: field[T.nat_phys_sci]: 3.647\n",
      "VIF: enrollment: 1.307\n",
      "VIF: recmd_class: 2.414\n",
      "VIF: recmd_prof: 2.060\n",
      "VIF: study_hrs: 1.674\n",
      "VIF: exp_gpa: 1.691\n",
      "VIF: cape_prop: 1.063\n"
     ]
    }
   ],
   "source": [
    "exog = model.model.exog\n",
    "names = model.params.index\n",
    "for i in range(1, exog.shape[1]):\n",
    "    print(f'VIF: {names[i]}: {variance_inflation_factor(exog, i):.3f}')"
   ]
  },
  {
   "cell_type": "markdown",
   "metadata": {},
   "source": [
    "Given that the VIFs do not exceed a threshold of $5$, the multicollinearity is small."
   ]
  },
  {
   "cell_type": "markdown",
   "metadata": {},
   "source": [
    "This part checks if the students recieved GPA is significantly impacted compare to the gpa students received before the COVID period. It could be much better or worse. \n",
    "\n",
    "Definition of Covid in terms of UCSD Quarters: Quarters from Summer Session 2020 to SPing 2023. Both inclusive.\n",
    "\n",
    "SS20 FA20 WI21 SP21 SS21 FA21 WI22 SP22 SS22 FA22 WI23 SP23"
   ]
  },
  {
   "cell_type": "code",
   "execution_count": 27,
   "metadata": {},
   "outputs": [
    {
     "data": {
      "image/png": "[encoded data removed]",
      "text/plain": [
       "<Figure size 640x480 with 1 Axes>"
      ]
     },
     "metadata": {},
     "output_type": "display_data"
    }
   ],
   "source": [
    "# Permutation test to see if the data is different\n",
    "\n",
    "df_covid = df[df['Quarter'].apply(lambda x : x in ['SS20', 'FA20', 'WI21', 'SP21', 'SS21', 'FA21', 'WI22', 'SP22', 'SS22', 'FA22', 'WI23', 'SP23'])]\n",
    "# df['rec_gpa'].mean() 3.27194\n",
    "# df_covid['rec_gpa'].mean() 3.390616\n",
    "\n",
    "plt.hist(df['rec_gpa'], bins=30, alpha=0.5, label='All Data',density=True)\n",
    "plt.hist(df_covid['rec_gpa'], bins=30, alpha=0.5, label='COVID Data', density=True)\n",
    "\n",
    "plt.title('Distribution of rec_gpa')\n",
    "plt.xlabel('rec_gpa')\n",
    "plt.ylabel('Frequency')\n",
    "plt.legend()\n",
    "plt.show()\n"
   ]
  },
  {
   "cell_type": "markdown",
   "metadata": {},
   "source": [
    "It looks like the GPA during the Covid time is slightly higher than other time.  \n",
    "In order to justify that, lets do a permutation test!"
   ]
  },
  {
   "cell_type": "code",
   "execution_count": 28,
   "metadata": {},
   "outputs": [
    {
     "name": "stdout",
     "output_type": "stream",
     "text": [
      "P-value: 0.448\n"
     ]
    },
    {
     "data": {
      "image/png": "[encoded data removed]",
      "text/plain": [
       "<Figure size 1000x600 with 1 Axes>"
      ]
     },
     "metadata": {},
     "output_type": "display_data"
    }
   ],
   "source": [
    "def mse_difference(data1, data2):\n",
    "    return np.mean((data1 - np.mean(data2)) ** 2) - np.mean((data2 - np.mean(data1)) ** 2)\n",
    "\n",
    "\n",
    "observed_mse_diff = mse_difference(df_covid['rec_gpa'], df[~df['Quarter'].isin(df_covid['Quarter'])]['rec_gpa'])\n",
    "\n",
    "combined_data = np.concatenate([df_covid['rec_gpa'], df[~df['Quarter'].isin(df_covid['Quarter'])]['rec_gpa']])\n",
    "\n",
    "num_permutations = 10000\n",
    "\n",
    "permuted_mse_diffs = np.zeros(num_permutations)\n",
    "\n",
    "for i in range(num_permutations):\n",
    "\n",
    "    permuted_data = np.random.permutation(combined_data)\n",
    "\n",
    "    permuted_sample1 = permuted_data[:len(df_covid)]\n",
    "    permuted_sample2 = permuted_data[len(df_covid):]\n",
    "\n",
    "    permuted_mse_diffs[i] = mse_difference(permuted_sample1, permuted_sample2)\n",
    "\n",
    "p_value = np.mean(np.abs(permuted_mse_diffs) >= np.abs(observed_mse_diff))\n",
    "\n",
    "# print(f'Observed mse diff: {observed_mse_diff}')\n",
    "print(f'P-value: {p_value}')\n",
    "\n",
    "\n",
    "plt.figure(figsize=(10, 6))\n",
    "plt.hist(permuted_mse_diffs, bins=30, alpha=0.75)\n",
    "plt.axvline(observed_mse_diff, color='red', linestyle='--', label=f'observed diff: {observed_mse_diff:.4f}')\n",
    "plt.axvline(-observed_mse_diff, color='red', linestyle='--')\n",
    "plt.title('permutation test')\n",
    "plt.xlabel('MSE diff')\n",
    "plt.ylabel('frequency')\n",
    "plt.legend()\n",
    "plt.show()"
   ]
  },
  {
   "cell_type": "code",
   "execution_count": 29,
   "metadata": {},
   "outputs": [
    {
     "name": "stdout",
     "output_type": "stream",
     "text": [
      "Mean Squared Error: 0.06380130993759016\n",
      "Correlation coefficient score: 0.5848281941880169\n"
     ]
    }
   ],
   "source": [
    "X = df[['enrollment', 'recmd_class', 'recmd_prof', 'study_hrs', 'exp_gpa', 'cape_prop', 'if_lower']]\n",
    "y = df['rec_gpa']\n",
    "\n",
    "X_train, X_test, y_train, y_test = train_test_split(X, y, test_size=0.2)\n",
    "\n",
    "model = LinearRegression()\n",
    "model.fit(X_train, y_train)\n",
    "\n",
    "y_pred = model.predict(X_test)\n",
    "mse = mean_squared_error(y_test, y_pred)\n",
    "r2 = r2_score(y_test, y_pred)\n",
    "\n",
    "print(f'Mean Squared Error: {mse}')\n",
    "print(f'Correlation coefficient score: {r2}')"
   ]
  },
  {
   "cell_type": "code",
   "execution_count": 30,
   "metadata": {},
   "outputs": [
    {
     "name": "stdout",
     "output_type": "stream",
     "text": [
      "Predicted GPA: 3.5266836987043444\n"
     ]
    }
   ],
   "source": [
    "# Prediction to a made-up date\n",
    "new_data = [[30, 0.95, 0.90, 3.0, 3.75, 0.5, 1]]\n",
    "predicted_gpa = model.predict(new_data)\n",
    "print(f'Predicted GPA: {predicted_gpa[0]}')"
   ]
  },
  {
   "cell_type": "code",
   "execution_count": 31,
   "metadata": {},
   "outputs": [
    {
     "data": {
      "text/html": [
       "<div>\n",
       "<style scoped>\n",
       "    .dataframe tbody tr th:only-of-type {\n",
       "        vertical-align: middle;\n",
       "    }\n",
       "\n",
       "    .dataframe tbody tr th {\n",
       "        vertical-align: top;\n",
       "    }\n",
       "\n",
       "    .dataframe thead th {\n",
       "        text-align: right;\n",
       "    }\n",
       "</style>\n",
       "<table border=\"1\" class=\"dataframe\">\n",
       "  <thead>\n",
       "    <tr style=\"text-align: right;\">\n",
       "      <th></th>\n",
       "      <th>Coefficient</th>\n",
       "    </tr>\n",
       "  </thead>\n",
       "  <tbody>\n",
       "    <tr>\n",
       "      <th>enrollment</th>\n",
       "      <td>-0.000323</td>\n",
       "    </tr>\n",
       "    <tr>\n",
       "      <th>recmd_class</th>\n",
       "      <td>-0.327283</td>\n",
       "    </tr>\n",
       "    <tr>\n",
       "      <th>recmd_prof</th>\n",
       "      <td>0.102519</td>\n",
       "    </tr>\n",
       "    <tr>\n",
       "      <th>study_hrs</th>\n",
       "      <td>0.002249</td>\n",
       "    </tr>\n",
       "    <tr>\n",
       "      <th>exp_gpa</th>\n",
       "      <td>1.074383</td>\n",
       "    </tr>\n",
       "    <tr>\n",
       "      <th>cape_prop</th>\n",
       "      <td>0.158072</td>\n",
       "    </tr>\n",
       "    <tr>\n",
       "      <th>if_lower</th>\n",
       "      <td>-0.024234</td>\n",
       "    </tr>\n",
       "  </tbody>\n",
       "</table>\n",
       "</div>"
      ],
      "text/plain": [
       "             Coefficient\n",
       "enrollment     -0.000323\n",
       "recmd_class    -0.327283\n",
       "recmd_prof      0.102519\n",
       "study_hrs       0.002249\n",
       "exp_gpa         1.074383\n",
       "cape_prop       0.158072\n",
       "if_lower       -0.024234"
      ]
     },
     "execution_count": 31,
     "metadata": {},
     "output_type": "execute_result"
    }
   ],
   "source": [
    "coefficients = pd.DataFrame(model.coef_, index=X.columns, columns=['Coefficient'])\n",
    "coefficients\n",
    "# Which feature has the highest regression coefficient (influence)"
   ]
  },
  {
   "cell_type": "markdown",
   "metadata": {},
   "source": [
    "According to our Linear Regression predicting model, Expected GPA in all features has"
   ]
  },
  {
   "cell_type": "code",
   "execution_count": null,
   "metadata": {},
   "outputs": [],
   "source": []
  },
  {
   "cell_type": "markdown",
   "metadata": {},
   "source": [
    "To identify the most important predictors and include them in the final regression model, we compare regression model formulas of all models we can create using subsets of the covariates and find the optimal model using BICs."
   ]
  },
  {
   "cell_type": "code",
   "execution_count": 32,
   "metadata": {},
   "outputs": [],
   "source": [
    "covariates = ['enrollment', 'recmd_class', 'recmd_prof', 'study_hrs', 'exp_gpa', 'season', 'cape_prop', 'if_lower']"
   ]
  },
  {
   "cell_type": "code",
   "execution_count": 33,
   "metadata": {},
   "outputs": [
    {
     "data": {
      "text/plain": [
       "['rec_gpa ~ enrollment',\n",
       " 'rec_gpa ~ recmd_class',\n",
       " 'rec_gpa ~ recmd_prof',\n",
       " 'rec_gpa ~ study_hrs',\n",
       " 'rec_gpa ~ exp_gpa',\n",
       " 'rec_gpa ~ season',\n",
       " 'rec_gpa ~ cape_prop',\n",
       " 'rec_gpa ~ if_lower',\n",
       " 'rec_gpa ~ enrollment + recmd_class',\n",
       " 'rec_gpa ~ enrollment + recmd_prof']"
      ]
     },
     "execution_count": 33,
     "metadata": {},
     "output_type": "execute_result"
    }
   ],
   "source": [
    "formulas = []\n",
    "\n",
    "from itertools import combinations\n",
    "\n",
    "for i in range(1, len(covariates)+1):\n",
    "    for subset in combinations(covariates, i):\n",
    "            formula = \"rec_gpa ~ \" + \" + \".join(subset)\n",
    "            formulas.append(formula)\n",
    "\n",
    "formulas[:10]"
   ]
  },
  {
   "cell_type": "code",
   "execution_count": 34,
   "metadata": {},
   "outputs": [],
   "source": [
    "BICs = []\n",
    "for formula in formulas:\n",
    "    model = smf.ols(formula, df).fit()\n",
    "    bic = -2 * model.llf + np.log(df.shape[0]) * len(model.params)\n",
    "    BICs.append(bic)\n",
    "\n",
    "# min(BICs) #10806.583574853334\n",
    "# max(BICs) #46643.07376870214"
   ]
  },
  {
   "cell_type": "code",
   "execution_count": 35,
   "metadata": {},
   "outputs": [
    {
     "name": "stdout",
     "output_type": "stream",
     "text": [
      "The formula of the optimal model is rec_gpa ~ enrollment + recmd_class + recmd_prof + exp_gpa + season + cape_prop + if_lower\n"
     ]
    }
   ],
   "source": [
    "min_index = np.argmin(BICs)\n",
    "optimal_formula = formulas[min_index]\n",
    "print(f'The formula of the optimal model is {optimal_formula}')"
   ]
  },
  {
   "cell_type": "markdown",
   "metadata": {},
   "source": [
    "Use backward selection to find the optimal model."
   ]
  },
  {
   "cell_type": "code",
   "execution_count": 36,
   "metadata": {},
   "outputs": [],
   "source": [
    "criterion = lambda formula, df: smf.ols(formula, df).fit().bic\n",
    "\n",
    "def remove(df, selected_columns, criterion, response='rec_gpa'):\n",
    "    worst_criterion = np.inf\n",
    "    worst_column = None\n",
    "    for column in selected_columns:\n",
    "        new_columns = selected_columns - {column}\n",
    "        formula = f'{response} ~ {\" + \".join(new_columns)}'\n",
    "        current_criterion = criterion(formula, df)\n",
    "        if current_criterion < worst_criterion:\n",
    "            worst_criterion = current_criterion\n",
    "            worst_column = column\n",
    "    return worst_column, worst_criterion"
   ]
  },
  {
   "cell_type": "code",
   "execution_count": 37,
   "metadata": {},
   "outputs": [
    {
     "data": {
      "text/plain": [
       "('recmd_prof', -1594.166544785496)"
      ]
     },
     "execution_count": 37,
     "metadata": {},
     "output_type": "execute_result"
    }
   ],
   "source": [
    "remove(df, set(df.columns.drop('rec_gpa')), criterion)\n"
   ]
  },
  {
   "cell_type": "code",
   "execution_count": 38,
   "metadata": {},
   "outputs": [],
   "source": [
    "def backward(df, criterion, response='rec_gpa'):\n",
    "    lst = ['rec_gpa', 'subject_code', 'Quarter']\n",
    "    selected_columns = set(df.columns.drop(lst))\n",
    "    columns = set(df.columns.drop(response))\n",
    "    best_criterion = np.inf\n",
    "    while len(selected_columns) > 0:\n",
    "        potential_column, current_criterion = remove(df, selected_columns, criterion, response)\n",
    "        if current_criterion > best_criterion:\n",
    "            break\n",
    "        else:\n",
    "            selected_columns = selected_columns - {potential_column}\n",
    "            best_criterion = current_criterion\n",
    "            print(f'Criterion: {best_criterion}')\n",
    "    return selected_columns"
   ]
  },
  {
   "cell_type": "code",
   "execution_count": 39,
   "metadata": {},
   "outputs": [
    {
     "name": "stdout",
     "output_type": "stream",
     "text": [
      "Criterion: 1961.7750554436705\n",
      "backward_vars: {'exp_gpa', 'recmd_class', 'enrollment', 'recmd_prof', 'cape_prop', 'field', 'season', 'if_lower'}\n"
     ]
    }
   ],
   "source": [
    "backward_vars = backward(df, criterion, response='rec_gpa')\n",
    "print(f'backward_vars: {backward_vars}')"
   ]
  },
  {
   "cell_type": "markdown",
   "metadata": {},
   "source": [
    "We apply the elastic net penalty"
   ]
  },
  {
   "cell_type": "code",
   "execution_count": 40,
   "metadata": {},
   "outputs": [
    {
     "name": "stdout",
     "output_type": "stream",
     "text": [
      "Intercept        0.000000\n",
      "season[T.SP]     0.000000\n",
      "season[T.SS]     0.000000\n",
      "season[T.WI]     0.000000\n",
      "if_lower[T.1]    0.000000\n",
      "enrollment       0.002351\n",
      "recmd_class      0.000000\n",
      "recmd_prof       0.000000\n",
      "study_hrs        0.086335\n",
      "exp_gpa          0.657053\n",
      "cape_prop        0.000000\n",
      "dtype: float64\n"
     ]
    }
   ],
   "source": [
    "full_model = f' y ~ {\" + \".join(covariates)}'\n",
    "elastic_fit = smf.ols(full_model, df).fit_regularized(\"elastic_net\", alpha=1.0, L1_wt=1.0)\n",
    "print(elastic_fit.params)"
   ]
  },
  {
   "cell_type": "code",
   "execution_count": 41,
   "metadata": {},
   "outputs": [],
   "source": [
    "l1wt = 1.0\n",
    "alphas = np.linspace(1e-3, 0.5, 200)\n",
    "elastic_coef =[]\n",
    "for alpha in alphas:\n",
    "    elastic_fit = smf.ols(full_model, df).fit_regularized('elastic_net', alpha, l1wt)\n",
    "    elastic_coef.append(elastic_fit.params[1:])"
   ]
  },
  {
   "cell_type": "markdown",
   "metadata": {},
   "source": [
    "Elastic coefficients are obtained form the model that assign weights to each predictor variable for different values of alpha, the regularization parameter."
   ]
  },
  {
   "cell_type": "code",
   "execution_count": 42,
   "metadata": {},
   "outputs": [
    {
     "data": {
      "text/html": [
       "<div>\n",
       "<style scoped>\n",
       "    .dataframe tbody tr th:only-of-type {\n",
       "        vertical-align: middle;\n",
       "    }\n",
       "\n",
       "    .dataframe tbody tr th {\n",
       "        vertical-align: top;\n",
       "    }\n",
       "\n",
       "    .dataframe thead th {\n",
       "        text-align: right;\n",
       "    }\n",
       "</style>\n",
       "<table border=\"1\" class=\"dataframe\">\n",
       "  <thead>\n",
       "    <tr style=\"text-align: right;\">\n",
       "      <th></th>\n",
       "      <th>season[T.SP]</th>\n",
       "      <th>season[T.SS]</th>\n",
       "      <th>season[T.WI]</th>\n",
       "      <th>if_lower[T.1]</th>\n",
       "      <th>enrollment</th>\n",
       "      <th>recmd_class</th>\n",
       "      <th>recmd_prof</th>\n",
       "      <th>study_hrs</th>\n",
       "      <th>exp_gpa</th>\n",
       "      <th>cape_prop</th>\n",
       "    </tr>\n",
       "  </thead>\n",
       "  <tbody>\n",
       "    <tr>\n",
       "      <th>0.001000</th>\n",
       "      <td>0.047468</td>\n",
       "      <td>0.0</td>\n",
       "      <td>0.005735</td>\n",
       "      <td>-0.027090</td>\n",
       "      <td>-0.000820</td>\n",
       "      <td>0.419410</td>\n",
       "      <td>0.061312</td>\n",
       "      <td>-0.039582</td>\n",
       "      <td>0.183779</td>\n",
       "      <td>-0.289638</td>\n",
       "    </tr>\n",
       "    <tr>\n",
       "      <th>0.003508</th>\n",
       "      <td>0.036900</td>\n",
       "      <td>0.0</td>\n",
       "      <td>0.000000</td>\n",
       "      <td>-0.009334</td>\n",
       "      <td>-0.000789</td>\n",
       "      <td>0.402292</td>\n",
       "      <td>0.055401</td>\n",
       "      <td>-0.034808</td>\n",
       "      <td>0.208247</td>\n",
       "      <td>-0.164898</td>\n",
       "    </tr>\n",
       "    <tr>\n",
       "      <th>0.006015</th>\n",
       "      <td>0.028011</td>\n",
       "      <td>0.0</td>\n",
       "      <td>0.000000</td>\n",
       "      <td>0.000000</td>\n",
       "      <td>-0.000743</td>\n",
       "      <td>0.384526</td>\n",
       "      <td>0.050332</td>\n",
       "      <td>-0.030217</td>\n",
       "      <td>0.232846</td>\n",
       "      <td>-0.040332</td>\n",
       "    </tr>\n",
       "    <tr>\n",
       "      <th>0.008523</th>\n",
       "      <td>0.018484</td>\n",
       "      <td>0.0</td>\n",
       "      <td>0.000000</td>\n",
       "      <td>0.000000</td>\n",
       "      <td>-0.000699</td>\n",
       "      <td>0.369682</td>\n",
       "      <td>0.048611</td>\n",
       "      <td>-0.025886</td>\n",
       "      <td>0.256990</td>\n",
       "      <td>0.000000</td>\n",
       "    </tr>\n",
       "    <tr>\n",
       "      <th>0.011030</th>\n",
       "      <td>0.009132</td>\n",
       "      <td>0.0</td>\n",
       "      <td>0.000000</td>\n",
       "      <td>0.000000</td>\n",
       "      <td>-0.000662</td>\n",
       "      <td>0.358083</td>\n",
       "      <td>0.049567</td>\n",
       "      <td>-0.021566</td>\n",
       "      <td>0.279589</td>\n",
       "      <td>0.000000</td>\n",
       "    </tr>\n",
       "  </tbody>\n",
       "</table>\n",
       "</div>"
      ],
      "text/plain": [
       "          season[T.SP]  season[T.SS]  season[T.WI]  if_lower[T.1]  enrollment   \n",
       "0.001000      0.047468           0.0      0.005735      -0.027090   -0.000820  \\\n",
       "0.003508      0.036900           0.0      0.000000      -0.009334   -0.000789   \n",
       "0.006015      0.028011           0.0      0.000000       0.000000   -0.000743   \n",
       "0.008523      0.018484           0.0      0.000000       0.000000   -0.000699   \n",
       "0.011030      0.009132           0.0      0.000000       0.000000   -0.000662   \n",
       "\n",
       "          recmd_class  recmd_prof  study_hrs   exp_gpa  cape_prop  \n",
       "0.001000     0.419410    0.061312  -0.039582  0.183779  -0.289638  \n",
       "0.003508     0.402292    0.055401  -0.034808  0.208247  -0.164898  \n",
       "0.006015     0.384526    0.050332  -0.030217  0.232846  -0.040332  \n",
       "0.008523     0.369682    0.048611  -0.025886  0.256990   0.000000  \n",
       "0.011030     0.358083    0.049567  -0.021566  0.279589   0.000000  "
      ]
     },
     "execution_count": 42,
     "metadata": {},
     "output_type": "execute_result"
    }
   ],
   "source": [
    "elastic_coef = pd.DataFrame(elastic_coef, alphas)\n",
    "elastic_coef.head()"
   ]
  },
  {
   "cell_type": "code",
   "execution_count": 43,
   "metadata": {},
   "outputs": [
    {
     "data": {
      "text/plain": [
       "Text(0, 0.5, 'coefficient')"
      ]
     },
     "execution_count": 43,
     "metadata": {},
     "output_type": "execute_result"
    },
    {
     "data": {
      "image/png": "[encoded data removed]",
      "text/plain": [
       "<Figure size 640x480 with 1 Axes>"
      ]
     },
     "metadata": {},
     "output_type": "display_data"
    }
   ],
   "source": [
    "fig, ax = plt.subplots()\n",
    "for column in elastic_coef.columns:\n",
    "    ax.plot(alphas, elastic_coef[column], label=column)\n",
    "ax.set_xlabel('alpha')\n",
    "ax.set_ylabel('coefficient')"
   ]
  },
  {
   "cell_type": "code",
   "execution_count": 44,
   "metadata": {},
   "outputs": [
    {
     "name": "stdout",
     "output_type": "stream",
     "text": [
      "enrollment   -0.000167\n",
      "study_hrs     0.014059\n",
      "exp_gpa       0.918561\n",
      "dtype: float64\n"
     ]
    }
   ],
   "source": [
    "elastic_fit = smf.ols(full_model, df).fit_regularized('elastic_net', 0.1, 1.0)\n",
    "print(elastic_fit.params[elastic_fit.params != 0])"
   ]
  },
  {
   "cell_type": "code",
   "execution_count": 49,
   "metadata": {},
   "outputs": [
    {
     "name": "stdout",
     "output_type": "stream",
     "text": [
      "                            OLS Regression Results                            \n",
      "==============================================================================\n",
      "Dep. Variable:                rec_gpa   R-squared:                       0.564\n",
      "Model:                            OLS   Adj. R-squared:                  0.564\n",
      "Method:                 Least Squares   F-statistic:                     8127.\n",
      "Date:                Sat, 08 Jun 2024   Prob (F-statistic):               0.00\n",
      "Time:                        13:52:42   Log-Likelihood:                -1181.2\n",
      "No. Observations:               18860   AIC:                             2370.\n",
      "Df Residuals:                   18856   BIC:                             2402.\n",
      "Df Model:                           3                                         \n",
      "Covariance Type:            nonrobust                                         \n",
      "==============================================================================\n",
      "                 coef    std err          t      P>|t|      [0.025      0.975]\n",
      "------------------------------------------------------------------------------\n",
      "Intercept     -0.2842      0.030     -9.612      0.000      -0.342      -0.226\n",
      "enrollment    -0.0004   2.12e-05    -17.402      0.000      -0.000      -0.000\n",
      "study_hrs      0.0026      0.001      2.886      0.004       0.001       0.004\n",
      "exp_gpa        1.0323      0.008    135.314      0.000       1.017       1.047\n",
      "==============================================================================\n",
      "Omnibus:                      919.367   Durbin-Watson:                   1.361\n",
      "Prob(Omnibus):                  0.000   Jarque-Bera (JB):             1407.626\n",
      "Skew:                          -0.434   Prob(JB):                    2.18e-306\n",
      "Kurtosis:                       4.019   Cond. No.                     2.19e+03\n",
      "==============================================================================\n",
      "\n",
      "Notes:\n",
      "[1] Standard Errors assume that the covariance matrix of the errors is correctly specified.\n",
      "[2] The condition number is large, 2.19e+03. This might indicate that there are\n",
      "strong multicollinearity or other numerical problems.\n"
     ]
    }
   ],
   "source": [
    "new_predictors = ['enrollment', 'study_hrs', 'exp_gpa']\n",
    "new_formula = 'rec_gpa ~ ' + ' + '.join(new_predictors)\n",
    "new_model = smf.ols(new_formula, df).fit()\n",
    "print(new_model.summary())"
   ]
  },
  {
   "cell_type": "code",
   "execution_count": null,
   "metadata": {},
   "outputs": [],
   "source": []
  }
 ],
 "metadata": {
  "kernelspec": {
   "display_name": "base",
   "language": "python",
   "name": "python3"
  },
  "language_info": {
   "codemirror_mode": {
    "name": "ipython",
    "version": 3
   },
   "file_extension": ".py",
   "mimetype": "text/x-python",
   "name": "python",
   "nbconvert_exporter": "python",
   "pygments_lexer": "ipython3",
   "version": "3.11.2"
  }
 },
 "nbformat": 4,
 "nbformat_minor": 2
}
