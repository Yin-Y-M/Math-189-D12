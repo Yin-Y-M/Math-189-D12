{
 "cells": [
  {
   "cell_type": "markdown",
   "metadata": {},
   "source": [
    "# Key Factors in UCSD Course and Professor Evaluations Correlated with Student Grades"
   ]
  },
  {
   "cell_type": "markdown",
   "metadata": {},
   "source": [
    "### Table of Contents\n",
    "- [Background and Problem Statement](#Background-and-Problem-Statement)\n",
    "- [Data Cleaning](#Data-Cleaning)\n",
    "- [Exploratory Data Analysis](#Exploratory-Data-Analysis)\n",
    "- [Linear Regression with Assumptions](#Linear-Regression)\n",
    "- [Sub question: If there is a difference of received GPA during the pandemic time?](#sub-question-if-there-is-a-difference-of-received-gpa-during-the-pandemic-time)\n",
    "- [Conclusion](#conclusion)\n",
    "- [Limitations](#limitations)\n",
    "    "
   ]
  },
  {
   "cell_type": "markdown",
   "metadata": {},
   "source": [
    "### Background and Problem Statement\n",
    "<a name='background and problem statement'></a>"
   ]
  },
  {
   "cell_type": "markdown",
   "metadata": {},
   "source": [
    "Our project aims to find the variable in Course and Professor Evaluations (CAPE) with\n",
    "the highest correlation with UCSD students’ received grades. To achieve this goal, we will\n",
    "analyze the relationships between students’ received grades with various variables, including\n",
    "study hours per week, recommendation rates of classes and professors, quarters in which\n",
    "students take the classes, and departments offering each course. This question is important as\n",
    "recognizing the variable that correlates with students’ received grades the most may help\n",
    "students pay more attention to this contributing factor, so that they may make academic plans\n",
    "accordingly to maximize their learning efficiency.\n",
    "\n",
    "Besides our main question, we are also interested in the impact of COVID-19 on students’ grades. To be more specific, we would focus on three years before and during the COVID-19 pandemic to see if a difference exists in the average grades that students receive.\n",
    "\n",
    "The data source is [CAPE at UCSD](https://cape.ucsd.edu/), which includes useful variables such as\n",
    "students' expected and actual grades, hours of study per week, and evaluations of classes and\n",
    "professors. Since the data has already been scraped and published to Kaggle by a fellow\n",
    "UCSD student, we will take advantage of [this dataset](https://www.kaggle.com/datasets/sanbornpnguyen/ucsdcapes?select=capes_data.csv), available in CSV format, for convenience. Given that the data is available to all students at UCSD, it is likely that other students might have performed other analyses based on this dataset. However, their results might not be publicly available.\n",
    "\n",
    "Within our research project, we propose to apply hypothesis testing and linear regression to\n",
    "predict the variable that positively influences students’ received scores the most for upcoming\n",
    "quarters. Our expected outcome for the project is that the recommendation rate of the professor\n",
    "correlates with the students’ grades the most, but further analysis is required to verify our\n",
    "hypothesis.\n"
   ]
  },
  {
   "cell_type": "markdown",
   "metadata": {},
   "source": [
    "### Setup"
   ]
  },
  {
   "cell_type": "code",
   "execution_count": 1,
   "metadata": {},
   "outputs": [],
   "source": [
    "# Imports\n",
    "import re\n",
    "\n",
    "import pandas as pd\n",
    "import numpy as np\n",
    "import seaborn as sns\n",
    "import matplotlib.pyplot as plt\n",
    "\n",
    "import scipy.stats as stats\n",
    "import statsmodels\n",
    "import statsmodels.api as sm\n",
    "import statsmodels.formula.api as smf\n",
    "from statsmodels.tsa.stattools import acf\n",
    "from statsmodels.stats.outliers_influence import variance_inflation_factor\n",
    "\n",
    "from sklearn.model_selection import train_test_split\n",
    "from sklearn.linear_model import LinearRegression\n",
    "from sklearn.metrics import mean_squared_error, r2_score"
   ]
  },
  {
   "cell_type": "code",
   "execution_count": 2,
   "metadata": {},
   "outputs": [
    {
     "data": {
      "text/html": [
       "<div>\n",
       "<style scoped>\n",
       "    .dataframe tbody tr th:only-of-type {\n",
       "        vertical-align: middle;\n",
       "    }\n",
       "\n",
       "    .dataframe tbody tr th {\n",
       "        vertical-align: top;\n",
       "    }\n",
       "\n",
       "    .dataframe thead th {\n",
       "        text-align: right;\n",
       "    }\n",
       "</style>\n",
       "<table border=\"1\" class=\"dataframe\">\n",
       "  <thead>\n",
       "    <tr style=\"text-align: right;\">\n",
       "      <th></th>\n",
       "      <th>Instructor</th>\n",
       "      <th>Course</th>\n",
       "      <th>Quarter</th>\n",
       "      <th>Total Enrolled in Course</th>\n",
       "      <th>Total CAPEs Given</th>\n",
       "      <th>Percentage Recommended Class</th>\n",
       "      <th>Percentage Recommended Professor</th>\n",
       "      <th>Study Hours per Week</th>\n",
       "      <th>Average Grade Expected</th>\n",
       "      <th>Average Grade Received</th>\n",
       "      <th>Evalulation URL</th>\n",
       "    </tr>\n",
       "  </thead>\n",
       "  <tbody>\n",
       "    <tr>\n",
       "      <th>0</th>\n",
       "      <td>Butler Elizabeth Annette</td>\n",
       "      <td>AAS 10 - Intro/African-American Studies (A)</td>\n",
       "      <td>SP23</td>\n",
       "      <td>66</td>\n",
       "      <td>48</td>\n",
       "      <td>93.5%</td>\n",
       "      <td>100.0%</td>\n",
       "      <td>2.80</td>\n",
       "      <td>A- (3.84)</td>\n",
       "      <td>B+ (3.67)</td>\n",
       "      <td>https://cape.ucsd.edu/CAPEReport.aspx?sectioni...</td>\n",
       "    </tr>\n",
       "    <tr>\n",
       "      <th>1</th>\n",
       "      <td>Butler Elizabeth Annette</td>\n",
       "      <td>AAS 170 - Legacies of Research (A)</td>\n",
       "      <td>SP23</td>\n",
       "      <td>20</td>\n",
       "      <td>7</td>\n",
       "      <td>100.0%</td>\n",
       "      <td>100.0%</td>\n",
       "      <td>2.50</td>\n",
       "      <td>A- (3.86)</td>\n",
       "      <td>A- (3.92)</td>\n",
       "      <td>https://cape.ucsd.edu/CAPEReport.aspx?sectioni...</td>\n",
       "    </tr>\n",
       "    <tr>\n",
       "      <th>2</th>\n",
       "      <td>Jones Ian William Nasser</td>\n",
       "      <td>ANAR 111 - Foundations of Archaeology (A)</td>\n",
       "      <td>SP23</td>\n",
       "      <td>16</td>\n",
       "      <td>3</td>\n",
       "      <td>100.0%</td>\n",
       "      <td>100.0%</td>\n",
       "      <td>3.83</td>\n",
       "      <td>B+ (3.67)</td>\n",
       "      <td>NaN</td>\n",
       "      <td>https://cape.ucsd.edu/CAPEReport.aspx?sectioni...</td>\n",
       "    </tr>\n",
       "    <tr>\n",
       "      <th>3</th>\n",
       "      <td>Shtienberg Gilad</td>\n",
       "      <td>ANAR 115 - Coastal Geomorphology/Environ (A)</td>\n",
       "      <td>SP23</td>\n",
       "      <td>26</td>\n",
       "      <td>6</td>\n",
       "      <td>100.0%</td>\n",
       "      <td>83.3%</td>\n",
       "      <td>3.83</td>\n",
       "      <td>B+ (3.50)</td>\n",
       "      <td>B (3.07)</td>\n",
       "      <td>https://cape.ucsd.edu/CAPEReport.aspx?sectioni...</td>\n",
       "    </tr>\n",
       "    <tr>\n",
       "      <th>4</th>\n",
       "      <td>Braswell Geoffrey E.</td>\n",
       "      <td>ANAR 155 - Stdy Abrd: Ancient Mesoamerica (A)</td>\n",
       "      <td>SP23</td>\n",
       "      <td>22</td>\n",
       "      <td>9</td>\n",
       "      <td>100.0%</td>\n",
       "      <td>100.0%</td>\n",
       "      <td>5.17</td>\n",
       "      <td>A (4.00)</td>\n",
       "      <td>A (4.00)</td>\n",
       "      <td>https://cape.ucsd.edu/CAPEReport.aspx?sectioni...</td>\n",
       "    </tr>\n",
       "  </tbody>\n",
       "</table>\n",
       "</div>"
      ],
      "text/plain": [
       "                 Instructor                                         Course  \\\n",
       "0  Butler Elizabeth Annette    AAS 10 - Intro/African-American Studies (A)   \n",
       "1  Butler Elizabeth Annette             AAS 170 - Legacies of Research (A)   \n",
       "2  Jones Ian William Nasser      ANAR 111 - Foundations of Archaeology (A)   \n",
       "3          Shtienberg Gilad   ANAR 115 - Coastal Geomorphology/Environ (A)   \n",
       "4      Braswell Geoffrey E.  ANAR 155 - Stdy Abrd: Ancient Mesoamerica (A)   \n",
       "\n",
       "  Quarter  Total Enrolled in Course  Total CAPEs Given  \\\n",
       "0    SP23                        66                 48   \n",
       "1    SP23                        20                  7   \n",
       "2    SP23                        16                  3   \n",
       "3    SP23                        26                  6   \n",
       "4    SP23                        22                  9   \n",
       "\n",
       "  Percentage Recommended Class Percentage Recommended Professor  \\\n",
       "0                        93.5%                           100.0%   \n",
       "1                       100.0%                           100.0%   \n",
       "2                       100.0%                           100.0%   \n",
       "3                       100.0%                            83.3%   \n",
       "4                       100.0%                           100.0%   \n",
       "\n",
       "   Study Hours per Week Average Grade Expected Average Grade Received  \\\n",
       "0                  2.80              A- (3.84)              B+ (3.67)   \n",
       "1                  2.50              A- (3.86)              A- (3.92)   \n",
       "2                  3.83              B+ (3.67)                    NaN   \n",
       "3                  3.83              B+ (3.50)               B (3.07)   \n",
       "4                  5.17               A (4.00)               A (4.00)   \n",
       "\n",
       "                                     Evalulation URL  \n",
       "0  https://cape.ucsd.edu/CAPEReport.aspx?sectioni...  \n",
       "1  https://cape.ucsd.edu/CAPEReport.aspx?sectioni...  \n",
       "2  https://cape.ucsd.edu/CAPEReport.aspx?sectioni...  \n",
       "3  https://cape.ucsd.edu/CAPEReport.aspx?sectioni...  \n",
       "4  https://cape.ucsd.edu/CAPEReport.aspx?sectioni...  "
      ]
     },
     "execution_count": 2,
     "metadata": {},
     "output_type": "execute_result"
    }
   ],
   "source": [
    "# Load the data\n",
    "df = pd.read_csv('capes_data.csv')\n",
    "df.head()"
   ]
  },
  {
   "cell_type": "markdown",
   "metadata": {},
   "source": [
    "<br><br><br><br><br>"
   ]
  },
  {
   "cell_type": "markdown",
   "metadata": {},
   "source": [
    "### Data Cleaning\n",
    "<a name='Data-Cleaning'></a>"
   ]
  },
  {
   "cell_type": "markdown",
   "metadata": {},
   "source": [
    "Since the evaluation URL does not have any influence on our result, it will be deleted. The name of the instructors will also be removed to streamline our analysis towards more generalizable insights focusing on other relevant variables. In addition, rows containing missing values will be eliminated."
   ]
  },
  {
   "cell_type": "code",
   "execution_count": 3,
   "metadata": {},
   "outputs": [],
   "source": [
    "df = df.drop('Evalulation URL', axis=1)\n",
    "df = df.drop('Instructor', axis=1)\n",
    "df = df.dropna().reset_index(drop=True)"
   ]
  },
  {
   "cell_type": "markdown",
   "metadata": {},
   "source": [
    "For later analysis, we will only preserve the numerical GPA from `Average Grade Expected` and `Average Grade Received`."
   ]
  },
  {
   "cell_type": "code",
   "execution_count": 4,
   "metadata": {},
   "outputs": [],
   "source": [
    "df['exp_gpa'] = df['Average Grade Expected'].str.extract(r'(\\d+\\.\\d+)').astype(float)\n",
    "df['rec_gpa'] = df['Average Grade Received'].str.extract(r'(\\d+\\.\\d+)').astype(float)\n",
    "\n",
    "df = df.drop('Average Grade Expected', axis=1)\n",
    "df = df.drop('Average Grade Received', axis=1)"
   ]
  },
  {
   "cell_type": "markdown",
   "metadata": {},
   "source": [
    "We extract the season part from `Quarter` and rename them as `season`."
   ]
  },
  {
   "cell_type": "code",
   "execution_count": 5,
   "metadata": {},
   "outputs": [],
   "source": [
    "df['season'] = df['Quarter'].str[0:2]\n",
    "df['season'] = df['season'].replace(['S1', 'S2', 'S3', 'SU'], 'SS')\n",
    "df['season'] = df['season'].astype('category')\n",
    "df['Quarter'] = df['Quarter'].astype('category')"
   ]
  },
  {
   "cell_type": "markdown",
   "metadata": {},
   "source": [
    "---"
   ]
  },
  {
   "cell_type": "markdown",
   "metadata": {},
   "source": [
    "Something we will use later\n",
    "<a id=\"Finding-this-course\"></a>\n"
   ]
  },
  {
   "cell_type": "code",
   "execution_count": 6,
   "metadata": {},
   "outputs": [
    {
     "data": {
      "text/plain": [
       "Course                              MATH 2 - Intro to College Mathematics (D)\n",
       "Quarter                                                                  FA22\n",
       "Total Enrolled in Course                                                   34\n",
       "Total CAPEs Given                                                          18\n",
       "Percentage Recommended Class                                            64.7%\n",
       "Percentage Recommended Professor                                        70.6%\n",
       "Study Hours per Week                                                     5.91\n",
       "exp_gpa                                                                  2.71\n",
       "rec_gpa                                                                  0.55\n",
       "season                                                                     FA\n",
       "Name: 2717, dtype: object"
      ]
     },
     "execution_count": 6,
     "metadata": {},
     "output_type": "execute_result"
    }
   ],
   "source": [
    "df.iloc[df['rec_gpa'].idxmin() ]"
   ]
  },
  {
   "cell_type": "markdown",
   "metadata": {},
   "source": [
    "---"
   ]
  },
  {
   "cell_type": "markdown",
   "metadata": {},
   "source": [
    "Proportion of people filling CAPES will be used to replace the number of those filling CAPES."
   ]
  },
  {
   "cell_type": "code",
   "execution_count": 7,
   "metadata": {},
   "outputs": [],
   "source": [
    "df['cape_prop'] = df['Total CAPEs Given']/df['Total Enrolled in Course']\n",
    "df = df.drop('Total CAPEs Given', axis=1)"
   ]
  },
  {
   "cell_type": "markdown",
   "metadata": {},
   "source": [
    "In order to ensure our data is representative, we will drop courses with survey response rates below 50%."
   ]
  },
  {
   "cell_type": "code",
   "execution_count": 8,
   "metadata": {},
   "outputs": [],
   "source": [
    "# Only take rows with more than 50% evaluating proportion\n",
    "df = df[df['cape_prop'] > 0.50] # 45393 -> 18860"
   ]
  },
  {
   "cell_type": "markdown",
   "metadata": {},
   "source": [
    "Two key information will be extracted from the name of each course: which subject code does the course have and whether it is an upper course or lower course."
   ]
  },
  {
   "cell_type": "code",
   "execution_count": 9,
   "metadata": {},
   "outputs": [
    {
     "name": "stdout",
     "output_type": "stream",
     "text": [
      "In total there are 121 subject codes\n"
     ]
    }
   ],
   "source": [
    "course_info = df['Course'].apply(lambda x: re.findall(r\"[\\w+\\s\\d+]+\\b\", x)[0])\n",
    "print(f\"In total there are {course_info.apply(lambda x: x.split()[0]).value_counts().shape[0]} subject codes\")\n",
    "\n",
    "df['Course'] = pd.Series(course_info).apply(lambda x: x.split()[0])\n",
    "if_lower = course_info.apply(lambda x: x.split()[1]).apply(lambda x: True if int(re.findall(r\"\\d+\", x)[0]) < 100 else False)\n",
    "df['if_lower'] = if_lower\n",
    "df.rename(columns={\"Course\" : \"subject_code\"}, inplace=True)\n",
    "\n",
    "df['if_lower'] = df['if_lower'].astype('category')\n",
    "df['subject_code'] = df['subject_code'].astype('category')"
   ]
  },
  {
   "cell_type": "markdown",
   "metadata": {},
   "source": [
    "We will convert the subject codes into different fields."
   ]
  },
  {
   "cell_type": "code",
   "execution_count": 10,
   "metadata": {},
   "outputs": [],
   "source": [
    "# Natural and Physical Sciences\n",
    "nat_phys_sci = [\n",
    "    \"ASTR\", \"BIBC\", \"BICD\", \"BIEB\", \"BILD\", \"BIMM\", \"BIPN\", \"BISP\", \n",
    "    \"CHEM\", \"CMM\", \"COGS\", \"DSC\", \"DSE\", \"MATH\", \"PHYS\", \"PHYA\", \n",
    "    \"SIO\", \"SIOB\", \"SIOC\", \"SIOG\"\n",
    "]\n",
    "\n",
    "# Engineering and Technology\n",
    "eng_tech = [\n",
    "    \"AESE\", \"BENG\", \"CENG\", \"COSE\", \"CSE\", \"ECE\", \"ENG\", \"MAE\", \"MATS\", \n",
    "    \"NANO\", \"SE\", \"WES\"\n",
    "]\n",
    "\n",
    "# Art and Design\n",
    "art_design = [\n",
    "    \"COCU\", \"COGN\", \"COSF\", \"COHI\", \"COMT\", \"DSGN\", \"FILM\", \"ICAM\", \n",
    "    \"MUS\", \"TDAC\", \"TDCH\", \"TDDE\", \"TDDM\", \"TDDR\", \"TDGE\", \"TDGR\", \n",
    "    \"TDHD\", \"TDHT\", \"TDMV\", \"TDPF\", \"TDPR\", \"TDPW\", \"TDTR\", \"VIS\"\n",
    "]\n",
    "\n",
    "# Humanities and Social Sciences\n",
    "human_soc_sci = [\n",
    "    \"AAPI\", \"AAS\", \"ANAR\", \"ANBI\", \"ANSC\", \"ANTH\", \"CGS\", \"CCS\", \"CCE\",\n",
    "    \"CHIN\", \"CLAS\", \"COMM\", \"CONT\", \"CSS\", \"ECON\", \"EDS\", \"ENVR\", \"ERC\",\n",
    "    \"ESYS\", \"ETHN\", \"ETIM\", \"GSS\", \"GMST\", \"HDP\", \"HDS\", \"HIAF\", \"HIEA\",\n",
    "    \"HIEU\", \"HILA\", \"HILD\", \"HINE\", \"HISC\", \"HITO\", \"HIUS\", \"HMNR\", \"HUM\",\n",
    "    \"INTL\", \"JAPN\", \"JUDA\", \"JWSP\", \"LAWS\", \"LATI\", \"LIHL\", \"LTAF\", \"LTAM\",\n",
    "    \"LTCH\", \"LTCS\", \"LTEA\", \"LTEN\", \"LTEU\", \"LTFR\", \"LTGM\", \"LTGK\", \"LTHI\",\n",
    "    \"LIGN\", \"LTLA\", \"LTRU\", \"LTSP\", \"LTTH\", \"LTWR\", \"LTIT\", \"LTKO\", \"LTKS\",\n",
    "    \"LTWL\", \"LTCO\", \"MGTA\", \"MGT\", \"MGTF\", \"MGTP\", \"PHIL\", \"POLI\", \"PSYC\",\n",
    "    \"RELI\", \"SOCA\", \"SOCB\", \"SOCC\", \"SOCD\", \"SOCE\", \"SOCI\", \"SOCL\", \"STPA\",\n",
    "    \"TKS\", \"TWS\", \"USP\", \"GLBH\", \"FMPH\", \"FPMU\"\n",
    "]\n",
    "\n",
    "\n",
    "\n",
    "# College and Writing Programs\n",
    "col_write_prog = [\n",
    "    \"AWP\", \"CAT\", \"DOC\", \"EAP\", \"ELWR\", \"ERC\", \"EIGH\", \"MCWP\", \"MMW\", \n",
    "    \"MSP\", \"MUIR\", \"REV\", \"SEV\", \"SXTH\", \"SYN\", \"TMC\", \"WARR\", \"WCWP\"\n",
    "]\n"
   ]
  },
  {
   "cell_type": "markdown",
   "metadata": {},
   "source": [
    "Note: Subject Codes acquired from [here](https://blink.ucsd.edu/instructors/courses/schedule-of-classes/subject-codes.html)"
   ]
  },
  {
   "cell_type": "code",
   "execution_count": 11,
   "metadata": {},
   "outputs": [],
   "source": [
    "def set_field(course):\n",
    "    if course in eng_tech:\n",
    "        return \"eng_tech\"\n",
    "    elif course in nat_phys_sci:\n",
    "        return \"nat_phys_sci\"\n",
    "    elif course in human_soc_sci:\n",
    "        return \"human_soc_sci\"\n",
    "    elif course in art_design:\n",
    "        return \"art_design\"\n",
    "    elif course in col_write_prog:\n",
    "        return \"col_write_prog\"\n",
    "    return np.nan\n",
    "\n",
    "df[\"field\"] = df['subject_code'].apply(set_field)"
   ]
  },
  {
   "cell_type": "markdown",
   "metadata": {},
   "source": [
    "Some other columns will be renamed for simplicity and converted to appropriate data types."
   ]
  },
  {
   "cell_type": "code",
   "execution_count": 12,
   "metadata": {},
   "outputs": [],
   "source": [
    "df = df.rename(columns={\n",
    "    'Percentage Recommended Class': 'recmd_class',\n",
    "    'Percentage Recommended Professor': 'recmd_prof',\n",
    "    'Study Hours per Week': 'study_hrs',\n",
    "    'Total Enrolled in Course' : 'enrollment'\n",
    "})\n",
    "\n",
    "df['recmd_class'] = df['recmd_class'].str.extract(r'(\\d+)').astype(float)/100\n",
    "df['recmd_prof'] = df['recmd_prof'].str.extract(r'(\\d+)').astype(float)/100"
   ]
  },
  {
   "cell_type": "markdown",
   "metadata": {},
   "source": [
    "The sequence number will be updated. "
   ]
  },
  {
   "cell_type": "code",
   "execution_count": 13,
   "metadata": {},
   "outputs": [],
   "source": [
    "df = df.reset_index(drop=True)"
   ]
  },
  {
   "cell_type": "markdown",
   "metadata": {},
   "source": [
    "Now, let's take a look at the cleaned dataset."
   ]
  },
  {
   "cell_type": "code",
   "execution_count": 14,
   "metadata": {},
   "outputs": [
    {
     "data": {
      "text/html": [
       "<div>\n",
       "<style scoped>\n",
       "    .dataframe tbody tr th:only-of-type {\n",
       "        vertical-align: middle;\n",
       "    }\n",
       "\n",
       "    .dataframe tbody tr th {\n",
       "        vertical-align: top;\n",
       "    }\n",
       "\n",
       "    .dataframe thead th {\n",
       "        text-align: right;\n",
       "    }\n",
       "</style>\n",
       "<table border=\"1\" class=\"dataframe\">\n",
       "  <thead>\n",
       "    <tr style=\"text-align: right;\">\n",
       "      <th></th>\n",
       "      <th>subject_code</th>\n",
       "      <th>Quarter</th>\n",
       "      <th>enrollment</th>\n",
       "      <th>recmd_class</th>\n",
       "      <th>recmd_prof</th>\n",
       "      <th>study_hrs</th>\n",
       "      <th>exp_gpa</th>\n",
       "      <th>rec_gpa</th>\n",
       "      <th>season</th>\n",
       "      <th>cape_prop</th>\n",
       "      <th>if_lower</th>\n",
       "      <th>field</th>\n",
       "    </tr>\n",
       "  </thead>\n",
       "  <tbody>\n",
       "    <tr>\n",
       "      <th>0</th>\n",
       "      <td>AAS</td>\n",
       "      <td>SP23</td>\n",
       "      <td>66</td>\n",
       "      <td>0.93</td>\n",
       "      <td>1.00</td>\n",
       "      <td>2.80</td>\n",
       "      <td>3.84</td>\n",
       "      <td>3.67</td>\n",
       "      <td>SP</td>\n",
       "      <td>0.727273</td>\n",
       "      <td>True</td>\n",
       "      <td>human_soc_sci</td>\n",
       "    </tr>\n",
       "    <tr>\n",
       "      <th>1</th>\n",
       "      <td>ANSC</td>\n",
       "      <td>SP23</td>\n",
       "      <td>30</td>\n",
       "      <td>0.95</td>\n",
       "      <td>1.00</td>\n",
       "      <td>3.45</td>\n",
       "      <td>3.79</td>\n",
       "      <td>3.67</td>\n",
       "      <td>SP</td>\n",
       "      <td>0.666667</td>\n",
       "      <td>False</td>\n",
       "      <td>human_soc_sci</td>\n",
       "    </tr>\n",
       "    <tr>\n",
       "      <th>2</th>\n",
       "      <td>ANSC</td>\n",
       "      <td>SP23</td>\n",
       "      <td>36</td>\n",
       "      <td>0.92</td>\n",
       "      <td>0.96</td>\n",
       "      <td>4.02</td>\n",
       "      <td>3.60</td>\n",
       "      <td>3.40</td>\n",
       "      <td>SP</td>\n",
       "      <td>0.694444</td>\n",
       "      <td>False</td>\n",
       "      <td>human_soc_sci</td>\n",
       "    </tr>\n",
       "    <tr>\n",
       "      <th>3</th>\n",
       "      <td>ANSC</td>\n",
       "      <td>SP23</td>\n",
       "      <td>24</td>\n",
       "      <td>1.00</td>\n",
       "      <td>1.00</td>\n",
       "      <td>3.56</td>\n",
       "      <td>4.00</td>\n",
       "      <td>3.91</td>\n",
       "      <td>SP</td>\n",
       "      <td>0.708333</td>\n",
       "      <td>False</td>\n",
       "      <td>human_soc_sci</td>\n",
       "    </tr>\n",
       "    <tr>\n",
       "      <th>4</th>\n",
       "      <td>ANTH</td>\n",
       "      <td>SP23</td>\n",
       "      <td>74</td>\n",
       "      <td>0.98</td>\n",
       "      <td>1.00</td>\n",
       "      <td>3.01</td>\n",
       "      <td>3.72</td>\n",
       "      <td>3.75</td>\n",
       "      <td>SP</td>\n",
       "      <td>0.702703</td>\n",
       "      <td>True</td>\n",
       "      <td>human_soc_sci</td>\n",
       "    </tr>\n",
       "  </tbody>\n",
       "</table>\n",
       "</div>"
      ],
      "text/plain": [
       "  subject_code Quarter  enrollment  recmd_class  recmd_prof  study_hrs  \\\n",
       "0          AAS    SP23          66         0.93        1.00       2.80   \n",
       "1         ANSC    SP23          30         0.95        1.00       3.45   \n",
       "2         ANSC    SP23          36         0.92        0.96       4.02   \n",
       "3         ANSC    SP23          24         1.00        1.00       3.56   \n",
       "4         ANTH    SP23          74         0.98        1.00       3.01   \n",
       "\n",
       "   exp_gpa  rec_gpa season  cape_prop if_lower          field  \n",
       "0     3.84     3.67     SP   0.727273     True  human_soc_sci  \n",
       "1     3.79     3.67     SP   0.666667    False  human_soc_sci  \n",
       "2     3.60     3.40     SP   0.694444    False  human_soc_sci  \n",
       "3     4.00     3.91     SP   0.708333    False  human_soc_sci  \n",
       "4     3.72     3.75     SP   0.702703     True  human_soc_sci  "
      ]
     },
     "execution_count": 14,
     "metadata": {},
     "output_type": "execute_result"
    }
   ],
   "source": [
    "df.head()"
   ]
  },
  {
   "cell_type": "markdown",
   "metadata": {},
   "source": [
    "Response:\n",
    "\n",
    "- The response variable is `rec_gpa`, which is the received grade point average for all students enrolled in the class.\n",
    "\n",
    "Covariates:\n",
    "\n",
    "1. `enrollment`: The number of students who enrolled in the class.\n",
    "2. `recmd_class`: The proportion of students who recommend the class.\n",
    "3. `recmd_prof`: The proportion of students who recommend the professor.\n",
    "4. `study_hrs`: The average number of hours students spent on average for one week outside of class.\n",
    "5. `exp_gpa`: The expected grade point average for students who filled out the CAPE form.\n",
    "6. `season`: The quarter for which the class is held, which includes fall, winter, spring, and summer sessions.\n",
    "7. `cape_prop`:  The proportion of students who filled out the CAPE form in the class.\n",
    "8. `if_lower`: True if the class is in the lower division, false if not.\n",
    "9. `field`: The academic field to which the department of the class belongs, including Natural and Physical Sciences, Engineering and Technology, Art and Design, Humanities and Social Sciences, and College and Writing Programs"
   ]
  },
  {
   "cell_type": "markdown",
   "metadata": {},
   "source": [
    "<br><br><br><br><br>"
   ]
  },
  {
   "cell_type": "markdown",
   "metadata": {},
   "source": [
    "### Exploratory Data Analysis\n",
    "<a name='exploratory data analysis'></a>"
   ]
  },
  {
   "cell_type": "markdown",
   "metadata": {},
   "source": [
    "We can obtain a general understanding of the distribution of the average grade received by drawing a histogram before further analysis."
   ]
  },
  {
   "cell_type": "code",
   "execution_count": 15,
   "metadata": {},
   "outputs": [
    {
     "data": {
      "image/png": "[encoded data removed]",
      "text/plain": [
       "<Figure size 640x480 with 1 Axes>"
      ]
     },
     "metadata": {},
     "output_type": "display_data"
    }
   ],
   "source": [
    "sns.histplot(df['rec_gpa'], bins=25)\n",
    "plt.show()"
   ]
  },
  {
   "cell_type": "markdown",
   "metadata": {},
   "source": [
    "We will take a look at the basic statistics of the average gpa received."
   ]
  },
  {
   "cell_type": "code",
   "execution_count": 16,
   "metadata": {},
   "outputs": [
    {
     "data": {
      "text/plain": [
       "count    18860.000000\n",
       "mean         3.274615\n",
       "std          0.390100\n",
       "min          0.550000\n",
       "25%          3.000000\n",
       "50%          3.290000\n",
       "75%          3.570000\n",
       "max          4.000000\n",
       "Name: rec_gpa, dtype: float64"
      ]
     },
     "execution_count": 16,
     "metadata": {},
     "output_type": "execute_result"
    }
   ],
   "source": [
    "df['rec_gpa'].describe()"
   ]
  },
  {
   "cell_type": "markdown",
   "metadata": {},
   "source": [
    "To our surprise, the lowest average gpa is $0.55$, which means that most of the student have failed the class.\n",
    "It is a MATH 2 - Intro to College Mathematics in Fall 2022.\n",
    "[Code for Finding this course](#Finding-this-course)"
   ]
  },
  {
   "cell_type": "markdown",
   "metadata": {},
   "source": [
    "Boxplot for the average gpa received"
   ]
  },
  {
   "cell_type": "code",
   "execution_count": 17,
   "metadata": {},
   "outputs": [
    {
     "data": {
      "image/png": "[encoded data removed]",
      "text/plain": [
       "<Figure size 640x480 with 1 Axes>"
      ]
     },
     "metadata": {},
     "output_type": "display_data"
    }
   ],
   "source": [
    "sns.boxplot( data=df['rec_gpa'])\n",
    "plt.title('Box Plot')\n",
    "plt.ylabel('GPa')\n",
    "plt.show()"
   ]
  },
  {
   "cell_type": "markdown",
   "metadata": {},
   "source": [
    "The missing values have already been removed in the data cleaning section. According to the barplot and the boxplot we have drawn, the distribution of the average gpa received is skewed to the left, with a number of outliers in the lower side. "
   ]
  },
  {
   "cell_type": "markdown",
   "metadata": {},
   "source": [
    "Heatmap for the correlation among quantitative covariates"
   ]
  },
  {
   "cell_type": "code",
   "execution_count": 18,
   "metadata": {},
   "outputs": [
    {
     "data": {
      "image/png": "[encoded data removed]",
      "text/plain": [
       "<Figure size 640x480 with 2 Axes>"
      ]
     },
     "metadata": {},
     "output_type": "display_data"
    }
   ],
   "source": [
    "# Correlation\n",
    "quan_data = df.drop(columns={\n",
    "    'subject_code',\n",
    "    'field',\n",
    "    'Quarter',\n",
    "    'season',\n",
    "    'if_lower'\n",
    "})\n",
    "correlation_matrix = quan_data.corr()\n",
    "sns.heatmap(correlation_matrix, annot=True, cmap='coolwarm')\n",
    "plt.show()"
   ]
  },
  {
   "cell_type": "markdown",
   "metadata": {},
   "source": [
    "<br><br><br><br><br>"
   ]
  },
  {
   "cell_type": "markdown",
   "metadata": {},
   "source": [
    "### Linear Regression\n",
    "<a name='linear regression'></a>"
   ]
  },
  {
   "cell_type": "markdown",
   "metadata": {},
   "source": [
    "We will first perform a regular linear regression based on all the covariates we have obtained so far."
   ]
  },
  {
   "cell_type": "code",
   "execution_count": 19,
   "metadata": {},
   "outputs": [
    {
     "name": "stdout",
     "output_type": "stream",
     "text": [
      "                            OLS Regression Results                            \n",
      "==============================================================================\n",
      "Dep. Variable:                rec_gpa   R-squared:                       0.577\n",
      "Model:                            OLS   Adj. R-squared:                  0.576\n",
      "Method:                 Least Squares   F-statistic:                     1832.\n",
      "Date:                Sun, 09 Jun 2024   Prob (F-statistic):               0.00\n",
      "Time:                        22:26:16   Log-Likelihood:                -904.47\n",
      "No. Observations:               18860   AIC:                             1839.\n",
      "Df Residuals:                   18845   BIC:                             1957.\n",
      "Df Model:                          14                                         \n",
      "Covariance Type:            nonrobust                                         \n",
      "===========================================================================================\n",
      "                              coef    std err          t      P>|t|      [0.025      0.975]\n",
      "-------------------------------------------------------------------------------------------\n",
      "Intercept                  -0.2428      0.033     -7.417      0.000      -0.307      -0.179\n",
      "season[T.SP]                0.0405      0.005      8.390      0.000       0.031       0.050\n",
      "season[T.SS]                0.0285      0.008      3.520      0.000       0.013       0.044\n",
      "season[T.WI]                0.0233      0.005      5.136      0.000       0.014       0.032\n",
      "if_lower[T.True]           -0.0231      0.004     -5.582      0.000      -0.031      -0.015\n",
      "field[T.col_write_prog]    -0.1013      0.011     -9.386      0.000      -0.122      -0.080\n",
      "field[T.eng_tech]          -0.0869      0.009     -9.673      0.000      -0.105      -0.069\n",
      "field[T.human_soc_sci]     -0.0797      0.007    -11.151      0.000      -0.094      -0.066\n",
      "field[T.nat_phys_sci]      -0.0947      0.008    -11.756      0.000      -0.110      -0.079\n",
      "enrollment                 -0.0003   2.32e-05    -11.285      0.000      -0.000      -0.000\n",
      "recmd_class                -0.3148      0.026    -12.245      0.000      -0.365      -0.264\n",
      "recmd_prof                  0.0991      0.021      4.810      0.000       0.059       0.139\n",
      "study_hrs                   0.0041      0.001      3.872      0.000       0.002       0.006\n",
      "exp_gpa                     1.0570      0.009    121.492      0.000       1.040       1.074\n",
      "cape_prop                   0.1578      0.013     12.162      0.000       0.132       0.183\n",
      "==============================================================================\n",
      "Omnibus:                      891.569   Durbin-Watson:                   1.378\n",
      "Prob(Omnibus):                  0.000   Jarque-Bera (JB):             1418.188\n",
      "Skew:                          -0.412   Prob(JB):                    1.11e-308\n",
      "Kurtosis:                       4.060   Cond. No.                     2.48e+03\n",
      "==============================================================================\n",
      "\n",
      "Notes:\n",
      "[1] Standard Errors assume that the covariance matrix of the errors is correctly specified.\n",
      "[2] The condition number is large, 2.48e+03. This might indicate that there are\n",
      "strong multicollinearity or other numerical problems.\n"
     ]
    }
   ],
   "source": [
    "formula = 'rec_gpa ~ enrollment + recmd_class + recmd_prof + study_hrs + exp_gpa + season + cape_prop + if_lower + field'\n",
    "model = smf.ols(formula, data=df).fit()\n",
    "print(model.summary())"
   ]
  },
  {
   "cell_type": "markdown",
   "metadata": {},
   "source": [
    "We will now examine the assumptions for linear regression."
   ]
  },
  {
   "cell_type": "code",
   "execution_count": 20,
   "metadata": {},
   "outputs": [],
   "source": [
    "def standardize(X):\n",
    "    return (X - X.mean()) / X.std()\n",
    "\n",
    "residuals = standardize(model.resid)"
   ]
  },
  {
   "cell_type": "markdown",
   "metadata": {},
   "source": [
    "1. Normality"
   ]
  },
  {
   "cell_type": "code",
   "execution_count": 21,
   "metadata": {},
   "outputs": [
    {
     "data": {
      "image/png": "[encoded data removed]",
      "text/plain": [
       "<Figure size 640x480 with 1 Axes>"
      ]
     },
     "metadata": {},
     "output_type": "display_data"
    }
   ],
   "source": [
    "sm.qqplot(residuals, line='s');"
   ]
  },
  {
   "cell_type": "code",
   "execution_count": 22,
   "metadata": {},
   "outputs": [
    {
     "name": "stdout",
     "output_type": "stream",
     "text": [
      "Shapiro-Wilk test p-value:  1.5166217854562317e-36\n",
      "The residuals are not normally distributed\n"
     ]
    }
   ],
   "source": [
    "import warnings\n",
    "warnings.filterwarnings('ignore')\n",
    "\n",
    "alpha = 0.05\n",
    "\n",
    "shapiro = stats.shapiro(residuals)\n",
    "\n",
    "print('Shapiro-Wilk test p-value: ', shapiro[1])\n",
    "\n",
    "if shapiro[1] < alpha:\n",
    "    print('The residuals are not normally distributed')\n",
    "else:\n",
    "    print('The residuals are normally distributed')"
   ]
  },
  {
   "cell_type": "markdown",
   "metadata": {},
   "source": [
    "By looking at the QQ-plot and running the Shapiro-Wilk test, we can see that the **normality assumption has been violated**. We did try to fix this issue by applying transformations such as log and square root. Unfortunately, the problem still exists."
   ]
  },
  {
   "cell_type": "code",
   "execution_count": 23,
   "metadata": {},
   "outputs": [
    {
     "name": "stdout",
     "output_type": "stream",
     "text": [
      "Shapiro-Wilk test p-value:  0.0\n",
      "The residuals are not normally distributed\n"
     ]
    }
   ],
   "source": [
    "log_y = np.log(df['rec_gpa'])\n",
    "log_formula = 'log_y ~ enrollment + recmd_class + recmd_prof + study_hrs + exp_gpa + season + cape_prop + if_lower + field'\n",
    "log_model = smf.ols(log_formula, data=df).fit()\n",
    "log_residuals = standardize(log_model.resid)\n",
    "\n",
    "shapiro = stats.shapiro(log_residuals)\n",
    "print('Shapiro-Wilk test p-value: ', shapiro[1])\n",
    "if shapiro[1] < alpha:\n",
    "    print('The residuals are not normally distributed')\n",
    "else:\n",
    "    print('The residuals are normally distributed')"
   ]
  },
  {
   "cell_type": "code",
   "execution_count": 24,
   "metadata": {},
   "outputs": [
    {
     "name": "stdout",
     "output_type": "stream",
     "text": [
      "Shapiro-Wilk test p-value:  5.605193857299268e-45\n",
      "The residuals are not normally distributed\n"
     ]
    }
   ],
   "source": [
    "sqrt_y = np.sqrt(df['rec_gpa'])\n",
    "sqrt_formula = 'sqrt_y ~ enrollment + recmd_class + recmd_prof + study_hrs + exp_gpa + season + cape_prop + if_lower + field'\n",
    "sqrt_model = smf.ols(sqrt_formula, data=df).fit()\n",
    "sqrt_residuals = standardize(sqrt_model.resid)\n",
    "\n",
    "shapiro = stats.shapiro(sqrt_residuals)\n",
    "print('Shapiro-Wilk test p-value: ', shapiro[1])\n",
    "if shapiro[1] < alpha:\n",
    "    print('The residuals are not normally distributed')\n",
    "else:\n",
    "    print('The residuals are normally distributed')"
   ]
  },
  {
   "cell_type": "markdown",
   "metadata": {},
   "source": [
    "2. Independence"
   ]
  },
  {
   "cell_type": "code",
   "execution_count": 25,
   "metadata": {},
   "outputs": [
    {
     "data": {
      "image/png": "[encoded data removed]",
      "text/plain": [
       "<Figure size 640x480 with 1 Axes>"
      ]
     },
     "metadata": {},
     "output_type": "display_data"
    }
   ],
   "source": [
    "# scatter plot of residuals vs observation index\n",
    "plt.scatter(range(len(residuals)), residuals);\n",
    "plt.xlabel('Observation');\n",
    "plt.ylabel('Standardized Residuals');"
   ]
  },
  {
   "cell_type": "markdown",
   "metadata": {},
   "source": [
    "Based on the plot, the points are randomly distributed, which means that the **independence** of residuals assumption is statisfied."
   ]
  },
  {
   "cell_type": "markdown",
   "metadata": {},
   "source": [
    "3. Linearity"
   ]
  },
  {
   "cell_type": "code",
   "execution_count": 26,
   "metadata": {},
   "outputs": [
    {
     "data": {
      "image/png": "[encoded data removed]",
      "text/plain": [
       "<Figure size 640x480 with 1 Axes>"
      ]
     },
     "metadata": {},
     "output_type": "display_data"
    }
   ],
   "source": [
    "# scatter plot of residuals vs fitted values\n",
    "plt.scatter(model.fittedvalues, residuals);\n",
    "plt.xlabel('Fitted Values');\n",
    "plt.ylabel('Standardized Residuals');"
   ]
  },
  {
   "cell_type": "markdown",
   "metadata": {},
   "source": [
    "Based on the plot, the **linear assumption** has been satisfied."
   ]
  },
  {
   "cell_type": "markdown",
   "metadata": {},
   "source": [
    "4. Homoscedasticity"
   ]
  },
  {
   "cell_type": "code",
   "execution_count": 27,
   "metadata": {},
   "outputs": [
    {
     "name": "stdout",
     "output_type": "stream",
     "text": [
      "7.988066298737124e-134\n",
      "The residuals are heteroscedastic\n"
     ]
    }
   ],
   "source": [
    "from statsmodels.stats.diagnostic import het_breuschpagan\n",
    "\n",
    "alpha = 0.05\n",
    "\n",
    "p_values = het_breuschpagan(model.resid, model.model.exog)[3]\n",
    "print(p_values)\n",
    "\n",
    "if p_values < alpha:\n",
    "    print('The residuals are heteroscedastic')\n",
    "else:\n",
    "    print('The residuals are homoscedastic')"
   ]
  },
  {
   "cell_type": "markdown",
   "metadata": {},
   "source": [
    "By running the Breusch-Pagan Test, the **homoscedasticity assumption has been violated**. However, the estimated coefficients remain unbiased. Since we are only interested in the values instead of the variance and confidence intervals, it doesn't have significant impact on our model.\n"
   ]
  },
  {
   "cell_type": "markdown",
   "metadata": {},
   "source": [
    "5. Non-Multicollinearity"
   ]
  },
  {
   "cell_type": "code",
   "execution_count": 28,
   "metadata": {},
   "outputs": [
    {
     "name": "stdout",
     "output_type": "stream",
     "text": [
      "VIF: season[T.SP]: 1.324\n",
      "VIF: season[T.SS]: 1.192\n",
      "VIF: season[T.WI]: 1.318\n",
      "VIF: if_lower[T.True]: 1.200\n",
      "VIF: field[T.col_write_prog]: 1.867\n",
      "VIF: field[T.eng_tech]: 3.116\n",
      "VIF: field[T.human_soc_sci]: 3.676\n",
      "VIF: field[T.nat_phys_sci]: 3.647\n",
      "VIF: enrollment: 1.307\n",
      "VIF: recmd_class: 2.414\n",
      "VIF: recmd_prof: 2.060\n",
      "VIF: study_hrs: 1.674\n",
      "VIF: exp_gpa: 1.691\n",
      "VIF: cape_prop: 1.063\n"
     ]
    }
   ],
   "source": [
    "exog = model.model.exog\n",
    "names = model.params.index\n",
    "for i in range(1, exog.shape[1]):\n",
    "    print(f'VIF: {names[i]}: {variance_inflation_factor(exog, i):.3f}')"
   ]
  },
  {
   "cell_type": "markdown",
   "metadata": {},
   "source": [
    "Given that the VIFs do not exceed a threshold of $5$, the **multicollinearity is small**."
   ]
  },
  {
   "cell_type": "markdown",
   "metadata": {},
   "source": [
    "<br><br><br><br><br>"
   ]
  },
  {
   "cell_type": "markdown",
   "metadata": {},
   "source": [
    "### Variable Selection"
   ]
  },
  {
   "cell_type": "markdown",
   "metadata": {},
   "source": [
    "To identify the most important predictors and include them in the final regression model, we compare regression model formulas of all models we can create using subsets of the covariates and find the optimal model using BICs."
   ]
  },
  {
   "cell_type": "code",
   "execution_count": 29,
   "metadata": {},
   "outputs": [],
   "source": [
    "covariates = ['enrollment', 'recmd_class', 'recmd_prof', 'study_hrs', 'exp_gpa', 'season', 'cape_prop', 'if_lower', 'field']"
   ]
  },
  {
   "cell_type": "code",
   "execution_count": 30,
   "metadata": {},
   "outputs": [
    {
     "data": {
      "text/plain": [
       "['rec_gpa ~ enrollment',\n",
       " 'rec_gpa ~ recmd_class',\n",
       " 'rec_gpa ~ recmd_prof',\n",
       " 'rec_gpa ~ study_hrs',\n",
       " 'rec_gpa ~ exp_gpa',\n",
       " 'rec_gpa ~ season',\n",
       " 'rec_gpa ~ cape_prop',\n",
       " 'rec_gpa ~ if_lower',\n",
       " 'rec_gpa ~ field',\n",
       " 'rec_gpa ~ enrollment + recmd_class']"
      ]
     },
     "execution_count": 30,
     "metadata": {},
     "output_type": "execute_result"
    }
   ],
   "source": [
    "formulas = []\n",
    "\n",
    "from itertools import combinations\n",
    "\n",
    "for i in range(1, len(covariates)+1):\n",
    "    for subset in combinations(covariates, i):\n",
    "            formula = \"rec_gpa ~ \" + \" + \".join(subset)\n",
    "            formulas.append(formula)\n",
    "\n",
    "formulas[:10]"
   ]
  },
  {
   "cell_type": "code",
   "execution_count": 31,
   "metadata": {},
   "outputs": [],
   "source": [
    "BICs = []\n",
    "for formula in formulas:\n",
    "    model = smf.ols(formula, df).fit()\n",
    "    bic = -2 * model.llf + np.log(df.shape[0]) * len(model.params)\n",
    "    BICs.append(bic)"
   ]
  },
  {
   "cell_type": "code",
   "execution_count": 32,
   "metadata": {},
   "outputs": [
    {
     "name": "stdout",
     "output_type": "stream",
     "text": [
      "The formula of the optimal model is rec_gpa ~ enrollment + recmd_class + recmd_prof + study_hrs + exp_gpa + season + cape_prop + if_lower + field\n"
     ]
    }
   ],
   "source": [
    "min_index = np.argmin(BICs)\n",
    "optimal_formula = formulas[min_index]\n",
    "print(f'The formula of the optimal model is {optimal_formula}')"
   ]
  },
  {
   "cell_type": "markdown",
   "metadata": {},
   "source": [
    "We can see that the model with the minimum BIC is exactly the same as the original full model we have used, so we will apply the **LASSO penalty** to select the variables."
   ]
  },
  {
   "cell_type": "code",
   "execution_count": 33,
   "metadata": {},
   "outputs": [
    {
     "name": "stdout",
     "output_type": "stream",
     "text": [
      "Intercept                  0.000000\n",
      "season[T.SP]               0.000000\n",
      "season[T.SS]               0.000000\n",
      "season[T.WI]               0.000000\n",
      "if_lower[T.True]           0.000000\n",
      "field[T.col_write_prog]    0.000000\n",
      "field[T.eng_tech]          0.000000\n",
      "field[T.human_soc_sci]     0.000000\n",
      "field[T.nat_phys_sci]      0.000000\n",
      "enrollment                 0.002351\n",
      "recmd_class                0.000000\n",
      "recmd_prof                 0.000000\n",
      "study_hrs                  0.086335\n",
      "exp_gpa                    0.657053\n",
      "cape_prop                  0.000000\n",
      "dtype: float64\n"
     ]
    }
   ],
   "source": [
    "y = df['rec_gpa']\n",
    "full_model = f' y ~ {\" + \".join(covariates)}'\n",
    "elastic_fit = smf.ols(full_model, df).fit_regularized(\"elastic_net\", alpha=1.0, L1_wt=1.0)\n",
    "print(elastic_fit.params)"
   ]
  },
  {
   "cell_type": "code",
   "execution_count": 34,
   "metadata": {},
   "outputs": [],
   "source": [
    "l1wt = 1.0\n",
    "alphas = np.linspace(1e-3, 0.5, 200)\n",
    "elastic_coef =[]\n",
    "for alpha in alphas:\n",
    "    elastic_fit = smf.ols(full_model, df).fit_regularized('elastic_net', alpha, l1wt)\n",
    "    elastic_coef.append(elastic_fit.params[1:])"
   ]
  },
  {
   "cell_type": "code",
   "execution_count": 35,
   "metadata": {
    "scrolled": true
   },
   "outputs": [
    {
     "data": {
      "text/html": [
       "<div>\n",
       "<style scoped>\n",
       "    .dataframe tbody tr th:only-of-type {\n",
       "        vertical-align: middle;\n",
       "    }\n",
       "\n",
       "    .dataframe tbody tr th {\n",
       "        vertical-align: top;\n",
       "    }\n",
       "\n",
       "    .dataframe thead th {\n",
       "        text-align: right;\n",
       "    }\n",
       "</style>\n",
       "<table border=\"1\" class=\"dataframe\">\n",
       "  <thead>\n",
       "    <tr style=\"text-align: right;\">\n",
       "      <th></th>\n",
       "      <th>season[T.SP]</th>\n",
       "      <th>season[T.SS]</th>\n",
       "      <th>season[T.WI]</th>\n",
       "      <th>if_lower[T.True]</th>\n",
       "      <th>field[T.col_write_prog]</th>\n",
       "      <th>field[T.eng_tech]</th>\n",
       "      <th>field[T.human_soc_sci]</th>\n",
       "      <th>field[T.nat_phys_sci]</th>\n",
       "      <th>enrollment</th>\n",
       "      <th>recmd_class</th>\n",
       "      <th>recmd_prof</th>\n",
       "      <th>study_hrs</th>\n",
       "      <th>exp_gpa</th>\n",
       "      <th>cape_prop</th>\n",
       "    </tr>\n",
       "  </thead>\n",
       "  <tbody>\n",
       "    <tr>\n",
       "      <th>0.001000</th>\n",
       "      <td>0.053182</td>\n",
       "      <td>0.032357</td>\n",
       "      <td>0.012136</td>\n",
       "      <td>-0.034448</td>\n",
       "      <td>-0.065393</td>\n",
       "      <td>-0.09217</td>\n",
       "      <td>-0.127341</td>\n",
       "      <td>-0.182147</td>\n",
       "      <td>-0.000676</td>\n",
       "      <td>0.503214</td>\n",
       "      <td>0.0</td>\n",
       "      <td>-0.035353</td>\n",
       "      <td>0.191199</td>\n",
       "      <td>-0.270086</td>\n",
       "    </tr>\n",
       "    <tr>\n",
       "      <th>0.003508</th>\n",
       "      <td>0.036037</td>\n",
       "      <td>0.000000</td>\n",
       "      <td>0.000000</td>\n",
       "      <td>-0.008126</td>\n",
       "      <td>0.000000</td>\n",
       "      <td>0.00000</td>\n",
       "      <td>0.000000</td>\n",
       "      <td>-0.062174</td>\n",
       "      <td>-0.000714</td>\n",
       "      <td>0.423165</td>\n",
       "      <td>0.0</td>\n",
       "      <td>-0.032235</td>\n",
       "      <td>0.213429</td>\n",
       "      <td>-0.170333</td>\n",
       "    </tr>\n",
       "    <tr>\n",
       "      <th>0.006015</th>\n",
       "      <td>0.027355</td>\n",
       "      <td>0.000000</td>\n",
       "      <td>0.000000</td>\n",
       "      <td>0.000000</td>\n",
       "      <td>0.000000</td>\n",
       "      <td>0.00000</td>\n",
       "      <td>0.000000</td>\n",
       "      <td>-0.043904</td>\n",
       "      <td>-0.000691</td>\n",
       "      <td>0.401743</td>\n",
       "      <td>0.0</td>\n",
       "      <td>-0.028171</td>\n",
       "      <td>0.238432</td>\n",
       "      <td>-0.044107</td>\n",
       "    </tr>\n",
       "    <tr>\n",
       "      <th>0.008523</th>\n",
       "      <td>0.018119</td>\n",
       "      <td>0.000000</td>\n",
       "      <td>0.000000</td>\n",
       "      <td>0.000000</td>\n",
       "      <td>0.000000</td>\n",
       "      <td>0.00000</td>\n",
       "      <td>0.000000</td>\n",
       "      <td>-0.027545</td>\n",
       "      <td>-0.000666</td>\n",
       "      <td>0.383584</td>\n",
       "      <td>0.0</td>\n",
       "      <td>-0.024218</td>\n",
       "      <td>0.263548</td>\n",
       "      <td>0.000000</td>\n",
       "    </tr>\n",
       "    <tr>\n",
       "      <th>0.011030</th>\n",
       "      <td>0.009056</td>\n",
       "      <td>0.000000</td>\n",
       "      <td>0.000000</td>\n",
       "      <td>0.000000</td>\n",
       "      <td>0.000000</td>\n",
       "      <td>0.00000</td>\n",
       "      <td>0.000000</td>\n",
       "      <td>-0.012313</td>\n",
       "      <td>-0.000650</td>\n",
       "      <td>0.369585</td>\n",
       "      <td>0.0</td>\n",
       "      <td>-0.020205</td>\n",
       "      <td>0.287528</td>\n",
       "      <td>0.000000</td>\n",
       "    </tr>\n",
       "  </tbody>\n",
       "</table>\n",
       "</div>"
      ],
      "text/plain": [
       "          season[T.SP]  season[T.SS]  season[T.WI]  if_lower[T.True]  \\\n",
       "0.001000      0.053182      0.032357      0.012136         -0.034448   \n",
       "0.003508      0.036037      0.000000      0.000000         -0.008126   \n",
       "0.006015      0.027355      0.000000      0.000000          0.000000   \n",
       "0.008523      0.018119      0.000000      0.000000          0.000000   \n",
       "0.011030      0.009056      0.000000      0.000000          0.000000   \n",
       "\n",
       "          field[T.col_write_prog]  field[T.eng_tech]  field[T.human_soc_sci]  \\\n",
       "0.001000                -0.065393           -0.09217               -0.127341   \n",
       "0.003508                 0.000000            0.00000                0.000000   \n",
       "0.006015                 0.000000            0.00000                0.000000   \n",
       "0.008523                 0.000000            0.00000                0.000000   \n",
       "0.011030                 0.000000            0.00000                0.000000   \n",
       "\n",
       "          field[T.nat_phys_sci]  enrollment  recmd_class  recmd_prof  \\\n",
       "0.001000              -0.182147   -0.000676     0.503214         0.0   \n",
       "0.003508              -0.062174   -0.000714     0.423165         0.0   \n",
       "0.006015              -0.043904   -0.000691     0.401743         0.0   \n",
       "0.008523              -0.027545   -0.000666     0.383584         0.0   \n",
       "0.011030              -0.012313   -0.000650     0.369585         0.0   \n",
       "\n",
       "          study_hrs   exp_gpa  cape_prop  \n",
       "0.001000  -0.035353  0.191199  -0.270086  \n",
       "0.003508  -0.032235  0.213429  -0.170333  \n",
       "0.006015  -0.028171  0.238432  -0.044107  \n",
       "0.008523  -0.024218  0.263548   0.000000  \n",
       "0.011030  -0.020205  0.287528   0.000000  "
      ]
     },
     "execution_count": 35,
     "metadata": {},
     "output_type": "execute_result"
    }
   ],
   "source": [
    "elastic_coef = pd.DataFrame(elastic_coef, alphas)\n",
    "elastic_coef.head()"
   ]
  },
  {
   "cell_type": "code",
   "execution_count": 36,
   "metadata": {},
   "outputs": [
    {
     "data": {
      "text/plain": [
       "Text(0, 0.5, 'coefficient')"
      ]
     },
     "execution_count": 36,
     "metadata": {},
     "output_type": "execute_result"
    },
    {
     "data": {
      "image/png": "[encoded data removed]",
      "text/plain": [
       "<Figure size 640x480 with 1 Axes>"
      ]
     },
     "metadata": {},
     "output_type": "display_data"
    }
   ],
   "source": [
    "fig, ax = plt.subplots()\n",
    "for column in elastic_coef.columns:\n",
    "    ax.plot(alphas, elastic_coef[column], label=column)\n",
    "ax.set_xlabel('alpha')\n",
    "ax.set_ylabel('coefficient')"
   ]
  },
  {
   "cell_type": "code",
   "execution_count": 37,
   "metadata": {},
   "outputs": [
    {
     "name": "stdout",
     "output_type": "stream",
     "text": [
      "enrollment   -0.000167\n",
      "study_hrs     0.014059\n",
      "exp_gpa       0.918561\n",
      "dtype: float64\n"
     ]
    }
   ],
   "source": [
    "elastic_fit = smf.ols(full_model, df).fit_regularized('elastic_net', 0.1, 1.0)\n",
    "print(elastic_fit.params[elastic_fit.params != 0])"
   ]
  },
  {
   "cell_type": "markdown",
   "metadata": {},
   "source": [
    "By using LASSO penalty, we selected three variables: `enrollment`, `study_hrs`, and `exp_gpa`. Next, we will run linear regression again using these three covariates."
   ]
  },
  {
   "cell_type": "code",
   "execution_count": 38,
   "metadata": {},
   "outputs": [
    {
     "name": "stdout",
     "output_type": "stream",
     "text": [
      "                            OLS Regression Results                            \n",
      "==============================================================================\n",
      "Dep. Variable:                rec_gpa   R-squared:                       0.564\n",
      "Model:                            OLS   Adj. R-squared:                  0.564\n",
      "Method:                 Least Squares   F-statistic:                     8127.\n",
      "Date:                Sun, 09 Jun 2024   Prob (F-statistic):               0.00\n",
      "Time:                        22:27:07   Log-Likelihood:                -1181.2\n",
      "No. Observations:               18860   AIC:                             2370.\n",
      "Df Residuals:                   18856   BIC:                             2402.\n",
      "Df Model:                           3                                         \n",
      "Covariance Type:            nonrobust                                         \n",
      "==============================================================================\n",
      "                 coef    std err          t      P>|t|      [0.025      0.975]\n",
      "------------------------------------------------------------------------------\n",
      "Intercept     -0.2842      0.030     -9.612      0.000      -0.342      -0.226\n",
      "enrollment    -0.0004   2.12e-05    -17.402      0.000      -0.000      -0.000\n",
      "study_hrs      0.0026      0.001      2.886      0.004       0.001       0.004\n",
      "exp_gpa        1.0323      0.008    135.314      0.000       1.017       1.047\n",
      "==============================================================================\n",
      "Omnibus:                      919.367   Durbin-Watson:                   1.361\n",
      "Prob(Omnibus):                  0.000   Jarque-Bera (JB):             1407.626\n",
      "Skew:                          -0.434   Prob(JB):                    2.18e-306\n",
      "Kurtosis:                       4.019   Cond. No.                     2.19e+03\n",
      "==============================================================================\n",
      "\n",
      "Notes:\n",
      "[1] Standard Errors assume that the covariance matrix of the errors is correctly specified.\n",
      "[2] The condition number is large, 2.19e+03. This might indicate that there are\n",
      "strong multicollinearity or other numerical problems.\n"
     ]
    }
   ],
   "source": [
    "new_predictors = ['enrollment', 'study_hrs', 'exp_gpa']\n",
    "new_formula = 'rec_gpa ~ ' + ' + '.join(new_predictors)\n",
    "new_model = smf.ols(new_formula, df).fit()\n",
    "print(new_model.summary())"
   ]
  },
  {
   "cell_type": "markdown",
   "metadata": {},
   "source": [
    "To better understand the relationship between predictor variables and covariates, we interpret the coefficients in the new logistic regression model.\n",
    "1. Interpretation of `Intercept`: this is the expected value of the dependent variable (`rec_gpa`) when all other independent variables are zero. $-0.2842$ is the approximation of the base value before considering any effect from the covariate.\n",
    "2. Interpretation of `enrollment`: when all other features are constant, one additional student in `enrollment` would lead to $0.0004$ units of decrease in `rec_gpa`.\n",
    "3. Interpretation of `study_hrs`: when all other features are constant, `rec_gpa` is expected to increase by $0.0026$ units as `study_hrs` is increased by one hour.\n",
    "4. Interpretation of `exp_gpa`: when all other features are constant, for each point increase in `exp_gpa`, `rec_gpa` is expected to increase by $1.0323$ units. `exp_gpa` has a strong positive relationship with `rec_gpa`, indicating that it is a major predictor of `rec_gpa`."
   ]
  },
  {
   "cell_type": "markdown",
   "metadata": {},
   "source": [
    "Comparing the new model derived using LASSO with the original model, we observe that the R-squared statistic decreases slightly from $0.577$ to $0.564$. Despite this minor reduction in explanatory power, the new model achieves this performance with a significantly smaller number of covariates. This reduction in complexity suggests that the new model is more parsimonious and likely to generalize better to new data, reducing the risk of overfitting. Therefore, we conclude that the new model is preferable to the original model."
   ]
  },
  {
   "cell_type": "markdown",
   "metadata": {},
   "source": [
    "<br><br><br><br><br>"
   ]
  },
  {
   "cell_type": "markdown",
   "metadata": {},
   "source": [
    "### Sub question: Is there a difference of received GPA during the pandemic time?\n",
    "<a name='sub-question-if-there-is-a-difference-of-received-gpa-during-the-pandemic-time'></a>"
   ]
  },
  {
   "cell_type": "markdown",
   "metadata": {},
   "source": [
    "This part checks if the students' recieved GPA is significantly impacted compared to the gpa students received before the COVID period. It could be in any direction. \n",
    "\n",
    "Null Hypothesis: There is **no significant difference** between students' received GPA during the pandemic quarters and other quarters.  \n",
    "Alternative Hypothesis: There is a **significant difference** between students' received GPA during the pandemic quarters and other quarters.\n",
    "\n",
    "We decide to use a **permutation test** to justify the answer.  \n",
    "\n",
    "Definition of Covid in terms of UCSD Quarters: Quarters from Summer Session 2020 to SPing 2023. Both inclusive.  \n",
    "(SS20 FA20 WI21 SP21 SS21 FA21 WI22 SP22 SS22 FA22 WI23 SP23)"
   ]
  },
  {
   "cell_type": "code",
   "execution_count": 39,
   "metadata": {},
   "outputs": [
    {
     "name": "stdout",
     "output_type": "stream",
     "text": [
      "Mean of the received gpa throughout the entire dataset: 3.274615058324496\n",
      "Mean of the received gpa during the pandemic: 3.369282487377093\n"
     ]
    }
   ],
   "source": [
    "df_covid = df[df['Quarter'].apply(lambda x : x in ['SS20', 'FA20', 'WI21', 'SP21', 'SS21', 'FA21', 'WI22', 'SP22', 'SS22', 'FA22', 'WI23', 'SP23'])]\n",
    "print(f\"Mean of the received gpa throughout the entire dataset: {df['rec_gpa'].mean()}\")\n",
    "print(f\"Mean of the received gpa during the pandemic: {df_covid['rec_gpa'].mean()}\")"
   ]
  },
  {
   "cell_type": "code",
   "execution_count": 40,
   "metadata": {},
   "outputs": [
    {
     "data": {
      "image/png": "[encoded data removed]",
      "text/plain": [
       "<Figure size 640x480 with 1 Axes>"
      ]
     },
     "metadata": {},
     "output_type": "display_data"
    }
   ],
   "source": [
    "plt.hist(df['rec_gpa'], bins=30, alpha=0.5, label='All Data',density=True)\n",
    "plt.hist(df_covid['rec_gpa'], bins=30, alpha=0.5, label='COVID Data', density=True)\n",
    "\n",
    "plt.title('Distribution of rec_gpa')\n",
    "plt.xlabel('rec_gpa')\n",
    "plt.ylabel('Frequency')\n",
    "plt.legend()\n",
    "plt.show()\n"
   ]
  },
  {
   "cell_type": "markdown",
   "metadata": {},
   "source": [
    "It looks like the GPA during the Covid time is slightly higher than other time. But is it statistically significant enough?  \n",
    "In order to justify that, let's do a permutation test."
   ]
  },
  {
   "cell_type": "code",
   "execution_count": 41,
   "metadata": {},
   "outputs": [
    {
     "data": {
      "image/png": "[encoded data removed]",
      "text/plain": [
       "<Figure size 1000x600 with 1 Axes>"
      ]
     },
     "metadata": {},
     "output_type": "display_data"
    }
   ],
   "source": [
    "# Permutation test to see if the data is different\n",
    "def mse_difference(data1, data2):\n",
    "    return np.mean((data1 - np.mean(data2)) ** 2) - np.mean((data2 - np.mean(data1)) ** 2)\n",
    "\n",
    "observed_mse_diff = mse_difference(df_covid['rec_gpa'], df[~df['Quarter'].isin(df_covid['Quarter'])]['rec_gpa'])\n",
    "combined_data = np.concatenate([df_covid['rec_gpa'], df[~df['Quarter'].isin(df_covid['Quarter'])]['rec_gpa']])\n",
    "\n",
    "num_permutations = 10000\n",
    "permuted_mse_diffs = np.zeros(num_permutations)\n",
    "\n",
    "for i in range(num_permutations):\n",
    "    permuted_data = np.random.permutation(combined_data)\n",
    "\n",
    "    permuted_sample1 = permuted_data[:len(df_covid)]\n",
    "    permuted_sample2 = permuted_data[len(df_covid):]\n",
    "\n",
    "    permuted_mse_diffs[i] = mse_difference(permuted_sample1, permuted_sample2)\n",
    "\n",
    "p_value = np.mean(np.abs(permuted_mse_diffs) >= np.abs(observed_mse_diff))\n",
    "\n",
    "# Visualization\n",
    "plt.figure(figsize=(10, 6))\n",
    "plt.hist(permuted_mse_diffs, bins=30, alpha=0.75)\n",
    "plt.axvline(observed_mse_diff, color='red', linestyle='--', label=f'observed diff: {observed_mse_diff:.4f}')\n",
    "plt.title('permutation test')\n",
    "plt.xlabel('MSE diff')\n",
    "plt.ylabel('frequency')\n",
    "plt.legend()\n",
    "plt.show()"
   ]
  },
  {
   "cell_type": "code",
   "execution_count": 42,
   "metadata": {},
   "outputs": [
    {
     "name": "stdout",
     "output_type": "stream",
     "text": [
      "Mean Squared Error: 0.06508831231515168\n",
      "Correlation coefficient score: 0.5774633955105289\n"
     ]
    }
   ],
   "source": [
    "X = df[['enrollment', 'recmd_class', 'recmd_prof', 'study_hrs', 'exp_gpa', 'cape_prop', 'if_lower']]\n",
    "y = df['rec_gpa']\n",
    "\n",
    "X_train, X_test, y_train, y_test = train_test_split(X, y, test_size=0.2)\n",
    "\n",
    "model = LinearRegression()\n",
    "model.fit(X_train, y_train)\n",
    "\n",
    "y_pred = model.predict(X_test)\n",
    "mse = mean_squared_error(y_test, y_pred)\n",
    "r2 = r2_score(y_test, y_pred)\n",
    "\n",
    "print(f'Mean Squared Error: {mse}')\n",
    "print(f'Correlation coefficient score: {r2}')"
   ]
  },
  {
   "cell_type": "markdown",
   "metadata": {},
   "source": [
    "And some explaination of the prediction model:"
   ]
  },
  {
   "cell_type": "code",
   "execution_count": 44,
   "metadata": {},
   "outputs": [
    {
     "name": "stdout",
     "output_type": "stream",
     "text": [
      "             Coefficient\n",
      "enrollment     -0.000326\n",
      "recmd_class    -0.326051\n",
      "recmd_prof      0.103551\n",
      "study_hrs       0.002054\n",
      "exp_gpa         1.074511\n",
      "cape_prop       0.149390\n",
      "if_lower       -0.022989\n",
      "\n",
      "P-value: 0.4403\n"
     ]
    }
   ],
   "source": [
    "coefficients = pd.DataFrame(model.coef_, index=X.columns, columns=['Coefficient'])\n",
    "print(coefficients)\n",
    "# Which feature has the highest regression coefficient (influence)\n",
    "print(f'\\nP-value: {p_value}')\n",
    "# P-value of our observation"
   ]
  },
  {
   "cell_type": "markdown",
   "metadata": {},
   "source": [
    "According to our Linear Regression predicting model, using alpha = 0.05.  \n",
    "With **p-value around 0.45**, we **fail to reject the null hypothesis** that there is no difference between GPA during pandemic time and other time.   \n",
    "As the conclusion: Expected GPA in during the pandemic time **does not have a significantly difference** from GPA of other times. "
   ]
  },
  {
   "cell_type": "markdown",
   "metadata": {},
   "source": [
    "<br><br><br><br><br>"
   ]
  },
  {
   "cell_type": "markdown",
   "metadata": {},
   "source": [
    "### Conclusion\n",
    "<a name='conclusion'></a>"
   ]
  },
  {
   "cell_type": "markdown",
   "metadata": {},
   "source": [
    "Based on the analysis we have conducted, students’ average expected grade has the most significant impact on their received grades. This result differs from our expected outcome, which is that the professors’ recommendation rates correlate with students’ received grades the most."
   ]
  },
  {
   "cell_type": "markdown",
   "metadata": {},
   "source": [
    "<br></br>"
   ]
  },
  {
   "cell_type": "markdown",
   "metadata": {},
   "source": [
    "### Limitations\n",
    "<a name='limitations'></a>"
   ]
  },
  {
   "cell_type": "markdown",
   "metadata": {},
   "source": [
    "Our project does have certain limitations.\n",
    "\n",
    "First, given the limited methods we have learned in this class, we are unable to perform more sophisticated types of hypothesis testing or regressions which might be more appropriate in this case.\n",
    "\n",
    "Second, the linear regression we have conducted violates the normality assumptions, which could lead to incorrect inferences.\n",
    "\n",
    "Third, CAPE is a voluntary survey. Students with strong opinions are more likely to fill out the survey, which leads to selection bias. In addition, variables such as professor recommendation rate and class recommendation rate are based on subjective answers, and there is no uniform standard for different students."
   ]
  }
 ],
 "metadata": {
  "kernelspec": {
   "display_name": "Python 3 (ipykernel)",
   "language": "python",
   "name": "python3"
  },
  "language_info": {
   "codemirror_mode": {
    "name": "ipython",
    "version": 3
   },
   "file_extension": ".py",
   "mimetype": "text/x-python",
   "name": "python",
   "nbconvert_exporter": "python",
   "pygments_lexer": "ipython3",
   "version": "3.10.9"
  }
 },
 "nbformat": 4,
 "nbformat_minor": 2
}
