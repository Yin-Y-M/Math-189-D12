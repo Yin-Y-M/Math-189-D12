{
 "cells": [
  {
   "cell_type": "markdown",
   "metadata": {},
   "source": [
    "# Math 189"
   ]
  },
  {
   "cell_type": "markdown",
   "metadata": {},
   "source": [
    "### Setup"
   ]
  },
  {
   "cell_type": "code",
   "execution_count": 236,
   "metadata": {},
   "outputs": [],
   "source": [
    "# Imports\n",
    "import pandas as pd\n",
    "import numpy as np\n",
    "import seaborn as sns\n",
    "import matplotlib.pyplot as plt"
   ]
  },
  {
   "cell_type": "code",
   "execution_count": 237,
   "metadata": {},
   "outputs": [
    {
     "data": {
      "text/html": [
       "<div>\n",
       "<style scoped>\n",
       "    .dataframe tbody tr th:only-of-type {\n",
       "        vertical-align: middle;\n",
       "    }\n",
       "\n",
       "    .dataframe tbody tr th {\n",
       "        vertical-align: top;\n",
       "    }\n",
       "\n",
       "    .dataframe thead th {\n",
       "        text-align: right;\n",
       "    }\n",
       "</style>\n",
       "<table border=\"1\" class=\"dataframe\">\n",
       "  <thead>\n",
       "    <tr style=\"text-align: right;\">\n",
       "      <th></th>\n",
       "      <th>Instructor</th>\n",
       "      <th>Course</th>\n",
       "      <th>Quarter</th>\n",
       "      <th>Total Enrolled in Course</th>\n",
       "      <th>Total CAPEs Given</th>\n",
       "      <th>Percentage Recommended Class</th>\n",
       "      <th>Percentage Recommended Professor</th>\n",
       "      <th>Study Hours per Week</th>\n",
       "      <th>Average Grade Expected</th>\n",
       "      <th>Average Grade Received</th>\n",
       "      <th>Evalulation URL</th>\n",
       "    </tr>\n",
       "  </thead>\n",
       "  <tbody>\n",
       "    <tr>\n",
       "      <th>0</th>\n",
       "      <td>Butler Elizabeth Annette</td>\n",
       "      <td>AAS 10 - Intro/African-American Studies (A)</td>\n",
       "      <td>SP23</td>\n",
       "      <td>66</td>\n",
       "      <td>48</td>\n",
       "      <td>93.5%</td>\n",
       "      <td>100.0%</td>\n",
       "      <td>2.80</td>\n",
       "      <td>A- (3.84)</td>\n",
       "      <td>B+ (3.67)</td>\n",
       "      <td>https://cape.ucsd.edu/CAPEReport.aspx?sectioni...</td>\n",
       "    </tr>\n",
       "    <tr>\n",
       "      <th>1</th>\n",
       "      <td>Butler Elizabeth Annette</td>\n",
       "      <td>AAS 170 - Legacies of Research (A)</td>\n",
       "      <td>SP23</td>\n",
       "      <td>20</td>\n",
       "      <td>7</td>\n",
       "      <td>100.0%</td>\n",
       "      <td>100.0%</td>\n",
       "      <td>2.50</td>\n",
       "      <td>A- (3.86)</td>\n",
       "      <td>A- (3.92)</td>\n",
       "      <td>https://cape.ucsd.edu/CAPEReport.aspx?sectioni...</td>\n",
       "    </tr>\n",
       "    <tr>\n",
       "      <th>2</th>\n",
       "      <td>Jones Ian William Nasser</td>\n",
       "      <td>ANAR 111 - Foundations of Archaeology (A)</td>\n",
       "      <td>SP23</td>\n",
       "      <td>16</td>\n",
       "      <td>3</td>\n",
       "      <td>100.0%</td>\n",
       "      <td>100.0%</td>\n",
       "      <td>3.83</td>\n",
       "      <td>B+ (3.67)</td>\n",
       "      <td>NaN</td>\n",
       "      <td>https://cape.ucsd.edu/CAPEReport.aspx?sectioni...</td>\n",
       "    </tr>\n",
       "    <tr>\n",
       "      <th>3</th>\n",
       "      <td>Shtienberg Gilad</td>\n",
       "      <td>ANAR 115 - Coastal Geomorphology/Environ (A)</td>\n",
       "      <td>SP23</td>\n",
       "      <td>26</td>\n",
       "      <td>6</td>\n",
       "      <td>100.0%</td>\n",
       "      <td>83.3%</td>\n",
       "      <td>3.83</td>\n",
       "      <td>B+ (3.50)</td>\n",
       "      <td>B (3.07)</td>\n",
       "      <td>https://cape.ucsd.edu/CAPEReport.aspx?sectioni...</td>\n",
       "    </tr>\n",
       "    <tr>\n",
       "      <th>4</th>\n",
       "      <td>Braswell Geoffrey E.</td>\n",
       "      <td>ANAR 155 - Stdy Abrd: Ancient Mesoamerica (A)</td>\n",
       "      <td>SP23</td>\n",
       "      <td>22</td>\n",
       "      <td>9</td>\n",
       "      <td>100.0%</td>\n",
       "      <td>100.0%</td>\n",
       "      <td>5.17</td>\n",
       "      <td>A (4.00)</td>\n",
       "      <td>A (4.00)</td>\n",
       "      <td>https://cape.ucsd.edu/CAPEReport.aspx?sectioni...</td>\n",
       "    </tr>\n",
       "  </tbody>\n",
       "</table>\n",
       "</div>"
      ],
      "text/plain": [
       "                 Instructor                                         Course  \\\n",
       "0  Butler Elizabeth Annette    AAS 10 - Intro/African-American Studies (A)   \n",
       "1  Butler Elizabeth Annette             AAS 170 - Legacies of Research (A)   \n",
       "2  Jones Ian William Nasser      ANAR 111 - Foundations of Archaeology (A)   \n",
       "3          Shtienberg Gilad   ANAR 115 - Coastal Geomorphology/Environ (A)   \n",
       "4      Braswell Geoffrey E.  ANAR 155 - Stdy Abrd: Ancient Mesoamerica (A)   \n",
       "\n",
       "  Quarter  Total Enrolled in Course  Total CAPEs Given  \\\n",
       "0    SP23                        66                 48   \n",
       "1    SP23                        20                  7   \n",
       "2    SP23                        16                  3   \n",
       "3    SP23                        26                  6   \n",
       "4    SP23                        22                  9   \n",
       "\n",
       "  Percentage Recommended Class Percentage Recommended Professor  \\\n",
       "0                        93.5%                           100.0%   \n",
       "1                       100.0%                           100.0%   \n",
       "2                       100.0%                           100.0%   \n",
       "3                       100.0%                            83.3%   \n",
       "4                       100.0%                           100.0%   \n",
       "\n",
       "   Study Hours per Week Average Grade Expected Average Grade Received  \\\n",
       "0                  2.80              A- (3.84)              B+ (3.67)   \n",
       "1                  2.50              A- (3.86)              A- (3.92)   \n",
       "2                  3.83              B+ (3.67)                    NaN   \n",
       "3                  3.83              B+ (3.50)               B (3.07)   \n",
       "4                  5.17               A (4.00)               A (4.00)   \n",
       "\n",
       "                                     Evalulation URL  \n",
       "0  https://cape.ucsd.edu/CAPEReport.aspx?sectioni...  \n",
       "1  https://cape.ucsd.edu/CAPEReport.aspx?sectioni...  \n",
       "2  https://cape.ucsd.edu/CAPEReport.aspx?sectioni...  \n",
       "3  https://cape.ucsd.edu/CAPEReport.aspx?sectioni...  \n",
       "4  https://cape.ucsd.edu/CAPEReport.aspx?sectioni...  "
      ]
     },
     "execution_count": 237,
     "metadata": {},
     "output_type": "execute_result"
    }
   ],
   "source": [
    "# Load the data\n",
    "df = pd.read_csv('capes_data.csv')\n",
    "df.head()"
   ]
  },
  {
   "cell_type": "markdown",
   "metadata": {},
   "source": [
    "### Data Cleaning"
   ]
  },
  {
   "cell_type": "markdown",
   "metadata": {},
   "source": [
    "Since the evaluation URL does not have any influence on our result, it will be removed. In addition, we will remove the rows with missing values and update the sequence number. "
   ]
  },
  {
   "cell_type": "code",
   "execution_count": 238,
   "metadata": {},
   "outputs": [],
   "source": [
    "df = df.drop('Evalulation URL', axis=1)\n",
    "df = df.dropna().reset_index(drop=True)"
   ]
  },
  {
   "cell_type": "markdown",
   "metadata": {},
   "source": [
    "For later analysis, we will break the Average Grade Expected and Average Grade Received into letter grade and gpa and convert them into the appropriate data types."
   ]
  },
  {
   "cell_type": "code",
   "execution_count": 239,
   "metadata": {},
   "outputs": [],
   "source": [
    "df['exp_letter'] = df['Average Grade Expected'].str.extract(r'^(\\S+)')\n",
    "df['rec_letter'] = df['Average Grade Received'].str.extract(r'^(\\S+)')\n",
    "\n",
    "df['exp_gpa'] = df['Average Grade Expected'].str.extract(r'(\\d+\\.\\d+)').astype(float)\n",
    "df['rec_gpa'] = df['Average Grade Received'].str.extract(r'(\\d+\\.\\d+)').astype(float)\n",
    "\n",
    "df = df.drop('Average Grade Expected', axis=1)\n",
    "df = df.drop('Average Grade Received', axis=1)"
   ]
  },
  {
   "cell_type": "markdown",
   "metadata": {},
   "source": [
    "Some other columns will be renamed for simplicity and converted to appropriate data types."
   ]
  },
  {
   "cell_type": "code",
   "execution_count": 240,
   "metadata": {},
   "outputs": [],
   "source": [
    "df = df.rename(columns={\n",
    "    'Percentage Recommended Class': 'recmd_class',\n",
    "    'Percentage Recommended Professor': 'recmd_prof',\n",
    "    'Study Hours per Week': 'study_hrs'\n",
    "})\n",
    "\n",
    "df['recmd_class'] = df['recmd_class'].str.extract(r'(\\d+)').astype(float)/100\n",
    "df['recmd_prof'] = df['recmd_prof'].str.extract(r'(\\d+)').astype(float)/100"
   ]
  },
  {
   "cell_type": "markdown",
   "metadata": {},
   "source": [
    "Now, let's take a look at the cleaned dataset."
   ]
  },
  {
   "cell_type": "code",
   "execution_count": 233,
   "metadata": {},
   "outputs": [
    {
     "data": {
      "text/html": [
       "<div>\n",
       "<style scoped>\n",
       "    .dataframe tbody tr th:only-of-type {\n",
       "        vertical-align: middle;\n",
       "    }\n",
       "\n",
       "    .dataframe tbody tr th {\n",
       "        vertical-align: top;\n",
       "    }\n",
       "\n",
       "    .dataframe thead th {\n",
       "        text-align: right;\n",
       "    }\n",
       "</style>\n",
       "<table border=\"1\" class=\"dataframe\">\n",
       "  <thead>\n",
       "    <tr style=\"text-align: right;\">\n",
       "      <th></th>\n",
       "      <th>Instructor</th>\n",
       "      <th>Course</th>\n",
       "      <th>Quarter</th>\n",
       "      <th>Total Enrolled in Course</th>\n",
       "      <th>Total CAPEs Given</th>\n",
       "      <th>recmd_class</th>\n",
       "      <th>recmd_prof</th>\n",
       "      <th>study_time</th>\n",
       "      <th>exp_letter</th>\n",
       "      <th>rec_letter</th>\n",
       "      <th>exp_gpa</th>\n",
       "      <th>rec_gpa</th>\n",
       "    </tr>\n",
       "  </thead>\n",
       "  <tbody>\n",
       "    <tr>\n",
       "      <th>0</th>\n",
       "      <td>Butler Elizabeth Annette</td>\n",
       "      <td>AAS 10 - Intro/African-American Studies (A)</td>\n",
       "      <td>SP23</td>\n",
       "      <td>66</td>\n",
       "      <td>48</td>\n",
       "      <td>0.93</td>\n",
       "      <td>1.00</td>\n",
       "      <td>2.80</td>\n",
       "      <td>A-</td>\n",
       "      <td>B+</td>\n",
       "      <td>3.84</td>\n",
       "      <td>3.67</td>\n",
       "    </tr>\n",
       "    <tr>\n",
       "      <th>1</th>\n",
       "      <td>Butler Elizabeth Annette</td>\n",
       "      <td>AAS 170 - Legacies of Research (A)</td>\n",
       "      <td>SP23</td>\n",
       "      <td>20</td>\n",
       "      <td>7</td>\n",
       "      <td>1.00</td>\n",
       "      <td>1.00</td>\n",
       "      <td>2.50</td>\n",
       "      <td>A-</td>\n",
       "      <td>A-</td>\n",
       "      <td>3.86</td>\n",
       "      <td>3.92</td>\n",
       "    </tr>\n",
       "    <tr>\n",
       "      <th>2</th>\n",
       "      <td>Shtienberg Gilad</td>\n",
       "      <td>ANAR 115 - Coastal Geomorphology/Environ (A)</td>\n",
       "      <td>SP23</td>\n",
       "      <td>26</td>\n",
       "      <td>6</td>\n",
       "      <td>1.00</td>\n",
       "      <td>0.83</td>\n",
       "      <td>3.83</td>\n",
       "      <td>B+</td>\n",
       "      <td>B</td>\n",
       "      <td>3.50</td>\n",
       "      <td>3.07</td>\n",
       "    </tr>\n",
       "    <tr>\n",
       "      <th>3</th>\n",
       "      <td>Braswell Geoffrey E.</td>\n",
       "      <td>ANAR 155 - Stdy Abrd: Ancient Mesoamerica (A)</td>\n",
       "      <td>SP23</td>\n",
       "      <td>22</td>\n",
       "      <td>9</td>\n",
       "      <td>1.00</td>\n",
       "      <td>1.00</td>\n",
       "      <td>5.17</td>\n",
       "      <td>A</td>\n",
       "      <td>A</td>\n",
       "      <td>4.00</td>\n",
       "      <td>4.00</td>\n",
       "    </tr>\n",
       "    <tr>\n",
       "      <th>4</th>\n",
       "      <td>Hrvoj Mihic Branka</td>\n",
       "      <td>ANBI 111 - Human Evolution (A)</td>\n",
       "      <td>SP23</td>\n",
       "      <td>22</td>\n",
       "      <td>4</td>\n",
       "      <td>1.00</td>\n",
       "      <td>1.00</td>\n",
       "      <td>2.50</td>\n",
       "      <td>A</td>\n",
       "      <td>B-</td>\n",
       "      <td>4.00</td>\n",
       "      <td>2.95</td>\n",
       "    </tr>\n",
       "  </tbody>\n",
       "</table>\n",
       "</div>"
      ],
      "text/plain": [
       "                 Instructor                                         Course  \\\n",
       "0  Butler Elizabeth Annette    AAS 10 - Intro/African-American Studies (A)   \n",
       "1  Butler Elizabeth Annette             AAS 170 - Legacies of Research (A)   \n",
       "2          Shtienberg Gilad   ANAR 115 - Coastal Geomorphology/Environ (A)   \n",
       "3      Braswell Geoffrey E.  ANAR 155 - Stdy Abrd: Ancient Mesoamerica (A)   \n",
       "4        Hrvoj Mihic Branka                 ANBI 111 - Human Evolution (A)   \n",
       "\n",
       "  Quarter  Total Enrolled in Course  Total CAPEs Given  recmd_class  \\\n",
       "0    SP23                        66                 48         0.93   \n",
       "1    SP23                        20                  7         1.00   \n",
       "2    SP23                        26                  6         1.00   \n",
       "3    SP23                        22                  9         1.00   \n",
       "4    SP23                        22                  4         1.00   \n",
       "\n",
       "   recmd_prof  study_time exp_letter rec_letter  exp_gpa  rec_gpa  \n",
       "0        1.00        2.80         A-         B+     3.84     3.67  \n",
       "1        1.00        2.50         A-         A-     3.86     3.92  \n",
       "2        0.83        3.83         B+          B     3.50     3.07  \n",
       "3        1.00        5.17          A          A     4.00     4.00  \n",
       "4        1.00        2.50          A         B-     4.00     2.95  "
      ]
     },
     "execution_count": 233,
     "metadata": {},
     "output_type": "execute_result"
    }
   ],
   "source": [
    "df.head()"
   ]
  },
  {
   "cell_type": "markdown",
   "metadata": {},
   "source": [
    "### Exploratory Data Analysis"
   ]
  },
  {
   "cell_type": "markdown",
   "metadata": {},
   "source": [
    "We can obtain a general understanding of the distribution of the average grade received by drawing a histogram before further analysis."
   ]
  },
  {
   "cell_type": "code",
   "execution_count": 234,
   "metadata": {},
   "outputs": [
    {
     "data": {
      "image/png": "[encoded data removed]",
      "text/plain": [
       "<Figure size 640x480 with 1 Axes>"
      ]
     },
     "metadata": {},
     "output_type": "display_data"
    }
   ],
   "source": [
    "sns.histplot(df['rec_gpa'], bins=25)\n",
    "plt.show()"
   ]
  },
  {
   "cell_type": "code",
   "execution_count": 241,
   "metadata": {},
   "outputs": [
    {
     "data": {
      "image/png": "[encoded data removed]",
      "text/plain": [
       "<Figure size 640x480 with 2 Axes>"
      ]
     },
     "metadata": {},
     "output_type": "display_data"
    }
   ],
   "source": [
    "# Correlation\n",
    "data = df.drop(columns={\n",
    "    'Instructor',\n",
    "    'Course',\n",
    "    'Quarter',\n",
    "    'Total Enrolled in Course',\n",
    "    'Total CAPEs Given',\n",
    "    'exp_letter',\n",
    "    'rec_letter'\n",
    "})\n",
    "correlation_matrix = data.corr()\n",
    "sns.heatmap(correlation_matrix, annot=True)\n",
    "plt.show()"
   ]
  },
  {
   "cell_type": "markdown",
   "metadata": {},
   "source": [
    "### Hypothesis Testing"
   ]
  },
  {
   "cell_type": "markdown",
   "metadata": {},
   "source": [
    "### Regression Analysis"
   ]
  },
  {
   "cell_type": "markdown",
   "metadata": {},
   "source": []
  }
 ],
 "metadata": {
  "kernelspec": {
   "display_name": "base",
   "language": "python",
   "name": "python3"
  },
  "language_info": {
   "codemirror_mode": {
    "name": "ipython",
    "version": 3
   },
   "file_extension": ".py",
   "mimetype": "text/x-python",
   "name": "python",
   "nbconvert_exporter": "python",
   "pygments_lexer": "ipython3",
   "version": "3.11.5"
  }
 },
 "nbformat": 4,
 "nbformat_minor": 2
}
